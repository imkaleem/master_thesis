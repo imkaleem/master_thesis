{
 "cells": [
  {
   "cell_type": "code",
   "execution_count": 1,
   "id": "bda5434a-03c0-4038-981f-bc6befc0c581",
   "metadata": {},
   "outputs": [],
   "source": [
    "import os\n",
    "import cv2\n",
    "import numpy as np\n",
    "import matplotlib.pyplot as plt\n",
    "from PIL import Image, ImageOps"
   ]
  },
  {
   "cell_type": "code",
   "execution_count": 2,
   "id": "f2dc44b7-eb06-42a6-a18c-ceb5556d35d2",
   "metadata": {},
   "outputs": [
    {
     "data": {
      "text/plain": [
       "['C:\\\\Users\\\\kaleem\\\\Learn\\\\Wuerth\\\\thesis\\\\data\\\\data_temp\\\\datasets_temp\\\\test_set\\\\classes\\\\classes\\\\1271810\\\\1271810.jpg',\n",
       " 'C:\\\\Users\\\\kaleem\\\\Learn\\\\Wuerth\\\\thesis\\\\data\\\\data_temp\\\\datasets_temp\\\\test_set\\\\classes\\\\classes\\\\1271810\\\\1271810_mask.jpg',\n",
       " 'C:\\\\Users\\\\kaleem\\\\Learn\\\\Wuerth\\\\thesis\\\\data\\\\data_temp\\\\datasets_temp\\\\test_set\\\\classes\\\\classes\\\\1271810\\\\1271810_mask_new.jpg',\n",
       " 'C:\\\\Users\\\\kaleem\\\\Learn\\\\Wuerth\\\\thesis\\\\data\\\\data_temp\\\\datasets_temp\\\\test_set\\\\classes\\\\classes\\\\1271810\\\\1271810_new.jpg',\n",
       " 'C:\\\\Users\\\\kaleem\\\\Learn\\\\Wuerth\\\\thesis\\\\data\\\\data_temp\\\\datasets_temp\\\\test_set\\\\classes\\\\classes\\\\1271810\\\\1271810_new_mask.jpg',\n",
       " 'C:\\\\Users\\\\kaleem\\\\Learn\\\\Wuerth\\\\thesis\\\\data\\\\data_temp\\\\datasets_temp\\\\test_set\\\\classes\\\\classes\\\\141874\\\\141874.jpg',\n",
       " 'C:\\\\Users\\\\kaleem\\\\Learn\\\\Wuerth\\\\thesis\\\\data\\\\data_temp\\\\datasets_temp\\\\test_set\\\\classes\\\\classes\\\\141874\\\\141874_mask.jpg',\n",
       " 'C:\\\\Users\\\\kaleem\\\\Learn\\\\Wuerth\\\\thesis\\\\data\\\\data_temp\\\\datasets_temp\\\\test_set\\\\classes\\\\classes\\\\141874\\\\141874_mask_new.jpg',\n",
       " 'C:\\\\Users\\\\kaleem\\\\Learn\\\\Wuerth\\\\thesis\\\\data\\\\data_temp\\\\datasets_temp\\\\test_set\\\\classes\\\\classes\\\\141874\\\\141874_new.jpg',\n",
       " 'C:\\\\Users\\\\kaleem\\\\Learn\\\\Wuerth\\\\thesis\\\\data\\\\data_temp\\\\datasets_temp\\\\test_set\\\\classes\\\\classes\\\\150535\\\\150535.jpg',\n",
       " 'C:\\\\Users\\\\kaleem\\\\Learn\\\\Wuerth\\\\thesis\\\\data\\\\data_temp\\\\datasets_temp\\\\test_set\\\\classes\\\\classes\\\\150535\\\\150535_mask.jpg',\n",
       " 'C:\\\\Users\\\\kaleem\\\\Learn\\\\Wuerth\\\\thesis\\\\data\\\\data_temp\\\\datasets_temp\\\\test_set\\\\classes\\\\classes\\\\150535\\\\150535_mask_new.jpg',\n",
       " 'C:\\\\Users\\\\kaleem\\\\Learn\\\\Wuerth\\\\thesis\\\\data\\\\data_temp\\\\datasets_temp\\\\test_set\\\\classes\\\\classes\\\\150535\\\\150535_new.jpg',\n",
       " 'C:\\\\Users\\\\kaleem\\\\Learn\\\\Wuerth\\\\thesis\\\\data\\\\data_temp\\\\datasets_temp\\\\test_set\\\\classes\\\\classes\\\\32098732\\\\32098732.jpg',\n",
       " 'C:\\\\Users\\\\kaleem\\\\Learn\\\\Wuerth\\\\thesis\\\\data\\\\data_temp\\\\datasets_temp\\\\test_set\\\\classes\\\\classes\\\\32098732\\\\32098732_mask.jpg',\n",
       " 'C:\\\\Users\\\\kaleem\\\\Learn\\\\Wuerth\\\\thesis\\\\data\\\\data_temp\\\\datasets_temp\\\\test_set\\\\classes\\\\classes\\\\32098732\\\\32098732_mask_new.jpg',\n",
       " 'C:\\\\Users\\\\kaleem\\\\Learn\\\\Wuerth\\\\thesis\\\\data\\\\data_temp\\\\datasets_temp\\\\test_set\\\\classes\\\\classes\\\\32098732\\\\32098732_mask_orig.jpg',\n",
       " 'C:\\\\Users\\\\kaleem\\\\Learn\\\\Wuerth\\\\thesis\\\\data\\\\data_temp\\\\datasets_temp\\\\test_set\\\\classes\\\\classes\\\\32098732\\\\32098732_new.jpg']"
      ]
     },
     "execution_count": 2,
     "metadata": {},
     "output_type": "execute_result"
    }
   ],
   "source": [
    "dir = r\"C:\\Users\\kaleem\\Learn\\Wuerth\\thesis\\data\\data_temp\\datasets_temp\\test_set\\classes\\classes\"\n",
    "image_paths = [os.path.join(path, name) for path, subdirs, files in os.walk(dir) for name in\n",
    "                          files if os.path.splitext(name)[-1].lower() in ('.jpg', '.jpeg', '.png', '.webp', '.bmp')]\n",
    "image_paths"
   ]
  },
  {
   "cell_type": "code",
   "execution_count": 3,
   "id": "52c16e08-13c6-4d5e-a858-c84dd24c2a2c",
   "metadata": {},
   "outputs": [
    {
     "name": "stdout",
     "output_type": "stream",
     "text": [
      "Image saved as square image at: C:\\Users\\kaleem\\Learn\\Wuerth\\thesis\\data\\data_temp\\datasets_temp\\test_set\\square.jpg\n"
     ]
    }
   ],
   "source": [
    "def make_square(image_path, output_path, fill_color=(255, 255, 255)):\n",
    "    # Load the image\n",
    "    image = Image.open(image_path)\n",
    "    \n",
    "    # Get original dimensions\n",
    "    width, height = image.size\n",
    "    \n",
    "    # Determine the size of the new square image\n",
    "    max_side = max(width, height)\n",
    "    \n",
    "    # Create a new image with a white background\n",
    "    new_image = Image.new('RGB', (max_side, max_side), fill_color)\n",
    "    \n",
    "    # Calculate the position to paste the original image onto the new image\n",
    "    paste_position = ((max_side - width) // 2, (max_side - height) // 2)\n",
    "    \n",
    "    # Paste the original image onto the new square image\n",
    "    new_image.paste(image, paste_position)\n",
    "    \n",
    "    # Save the new image\n",
    "    new_image.save(output_path)\n",
    "    print(f\"Image saved as square image at: {output_path}\")\n",
    "\n",
    "# Paths\n",
    "input_image_path = image_paths[0]\n",
    "output_image_path = r\"C:\\Users\\kaleem\\Learn\\Wuerth\\thesis\\data\\data_temp\\datasets_temp\\test_set\\square.jpg\"\n",
    "\n",
    "# Make the image square\n",
    "make_square(input_image_path, output_image_path)"
   ]
  },
  {
   "cell_type": "code",
   "execution_count": 4,
   "id": "b54c6c0d-f1cd-4035-8bb1-9834c884ba07",
   "metadata": {},
   "outputs": [
    {
     "name": "stdout",
     "output_type": "stream",
     "text": [
      "Image saved as square image at: C:\\Users\\wn00217454\\computer_vision\\thesis\\data\\datasets\\test_set\\classes\\1271810.jpg\n",
      "Image saved as square image at: C:\\Users\\wn00217454\\computer_vision\\thesis\\data\\datasets\\test_set\\classes\\141874.jpg\n",
      "Image saved as square image at: C:\\Users\\wn00217454\\computer_vision\\thesis\\data\\datasets\\test_set\\classes\\150535.jpg\n",
      "Image saved as square image at: C:\\Users\\wn00217454\\computer_vision\\thesis\\data\\datasets\\test_set\\classes\\32098732.jpg\n",
      "Image saved as square image at: C:\\Users\\wn00217454\\computer_vision\\thesis\\data\\datasets\\test_set\\classes\\square.jpg\n",
      "Image saved as square image at: C:\\Users\\wn00217454\\computer_vision\\thesis\\data\\datasets\\test_set\\classes\\1271810\\1271810.jpg\n",
      "Image saved as square image at: C:\\Users\\wn00217454\\computer_vision\\thesis\\data\\datasets\\test_set\\classes\\141874\\141874.jpg\n",
      "Image saved as square image at: C:\\Users\\wn00217454\\computer_vision\\thesis\\data\\datasets\\test_set\\classes\\150535\\150535.jpg\n",
      "Image saved as square image at: C:\\Users\\wn00217454\\computer_vision\\thesis\\data\\datasets\\test_set\\classes\\32098732\\32098732.jpg\n"
     ]
    }
   ],
   "source": [
    "for image_path in image_paths:\n",
    "    make_square(image_path, image_path)"
   ]
  },
  {
   "cell_type": "code",
   "execution_count": null,
   "id": "20ed6958-7c90-453d-8b76-cc85bc5d1b5f",
   "metadata": {},
   "outputs": [],
   "source": []
  }
 ],
 "metadata": {
  "kernelspec": {
   "display_name": "Python 3 (ipykernel)",
   "language": "python",
   "name": "python3"
  },
  "language_info": {
   "codemirror_mode": {
    "name": "ipython",
    "version": 3
   },
   "file_extension": ".py",
   "mimetype": "text/x-python",
   "name": "python",
   "nbconvert_exporter": "python",
   "pygments_lexer": "ipython3",
   "version": "3.10.0"
  }
 },
 "nbformat": 4,
 "nbformat_minor": 5
}
