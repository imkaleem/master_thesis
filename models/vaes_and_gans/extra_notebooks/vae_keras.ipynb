{
 "cells": [
  {
   "cell_type": "markdown",
   "metadata": {
    "id": "5HwGzIVv_vNQ"
   },
   "source": [
    "# Variational AutoEncoder"
   ]
  },
  {
   "cell_type": "markdown",
   "metadata": {
    "id": "xNVXxZ6X_vNU"
   },
   "source": [
    "## Setup"
   ]
  },
  {
   "cell_type": "code",
   "execution_count": 2,
   "metadata": {
    "id": "Ac9mMQNI_vNV"
   },
   "outputs": [
    {
     "name": "stdout",
     "output_type": "stream",
     "text": [
      "WARNING:tensorflow:From C:\\Users\\wn00217454\\Anaconda3\\envs\\cv\\lib\\site-packages\\keras\\src\\losses.py:2976: The name tf.losses.sparse_softmax_cross_entropy is deprecated. Please use tf.compat.v1.losses.sparse_softmax_cross_entropy instead.\n",
      "\n"
     ]
    }
   ],
   "source": [
    "import os\n",
    "\n",
    "os.environ[\"KERAS_BACKEND\"] = \"tensorflow\"\n",
    "\n",
    "import numpy as np\n",
    "import tensorflow as tf\n",
    "import keras\n",
    "from keras import layers"
   ]
  },
  {
   "cell_type": "markdown",
   "metadata": {
    "id": "Uh72M8RH_vNX"
   },
   "source": [
    "## Create a sampling layer"
   ]
  },
  {
   "cell_type": "code",
   "execution_count": 3,
   "metadata": {
    "id": "ObcwVeL2_vNY"
   },
   "outputs": [],
   "source": [
    "\n",
    "class Sampling(layers.Layer):\n",
    "    \"\"\"Uses (z_mean, z_log_var) to sample z, the vector encoding a digit.\"\"\"\n",
    "\n",
    "    def call(self, inputs):\n",
    "        z_mean, z_log_var = inputs\n",
    "        batch = tf.shape(z_mean)[0]\n",
    "        dim = tf.shape(z_mean)[1]\n",
    "        epsilon = tf.random.normal(shape=(batch, dim))\n",
    "        return z_mean + tf.exp(0.5 * z_log_var) * epsilon\n",
    "\n",
    "def sampling(args):\n",
    "    z_mean, z_log_var = args\n",
    "    epsilon = tf.keras.backend.random_normal(shape=(tf.shape(z_mean)[0], latent_dim))\n",
    "    return z_mean + tf.exp(0.5 * z_log_var) * epsilon"
   ]
  },
  {
   "cell_type": "markdown",
   "metadata": {
    "id": "3u68Q0G1_vNY"
   },
   "source": [
    "## Build the encoder"
   ]
  },
  {
   "cell_type": "code",
   "execution_count": null,
   "metadata": {
    "id": "tFByQ0vZ_vNY"
   },
   "outputs": [],
   "source": [
    "latent_dim = 2\n",
    "num_classes = 10\n",
    "\n",
    "encoder_inputs = keras.Input(shape=(28, 28, 1))\n",
    "x = layers.Conv2D(32, 3, activation=\"relu\", strides=2, padding=\"same\")(encoder_inputs)\n",
    "x = layers.Conv2D(64, 3, activation=\"relu\", strides=2, padding=\"same\")(x)\n",
    "x = layers.Flatten()(x)\n",
    "x = layers.Dense(16, activation=\"relu\")(x)\n",
    "# Conditional input\n",
    "label = keras.Input(shape=(num_classes,))\n",
    "x = layers.concatenate([x, label])\n",
    "z_mean = layers.Dense(latent_dim, name=\"z_mean\")(x)\n",
    "z_log_var = layers.Dense(latent_dim, name=\"z_log_var\")(x)\n",
    "z = layers.Lambda(sampling, output_shape=(latent_dim,))([z_mean, z_log_var])\n",
    "encoder = keras.Model([encoder_inputs, label], [z_mean, z_log_var, z], name=\"encoder\")\n",
    "#encoder = keras.Model(encoder_inputs, [z_mean, z_log_var, z], name=\"encoder\")\n",
    "encoder.summary()"
   ]
  },
  {
   "cell_type": "markdown",
   "metadata": {
    "id": "WBez_TWp_vNZ"
   },
   "source": [
    "## Build the decoder"
   ]
  },
  {
   "cell_type": "code",
   "execution_count": null,
   "metadata": {
    "id": "fxhf8sQR_vNZ"
   },
   "outputs": [],
   "source": [
    "latent_inputs = keras.Input(shape=(latent_dim,))\n",
    "x = layers.concatenate([latent_inputs , label])\n",
    "x = layers.Dense(7 * 7 * 64, activation=\"relu\")(latent_inputs)\n",
    "x = layers.Reshape((7, 7, 64))(x)\n",
    "x = layers.Conv2DTranspose(64, 3, activation=\"relu\", strides=2, padding=\"same\")(x)\n",
    "x = layers.Conv2DTranspose(32, 3, activation=\"relu\", strides=2, padding=\"same\")(x)\n",
    "decoder_outputs = layers.Conv2DTranspose(1, 3, activation=\"sigmoid\", padding=\"same\")(x)\n",
    "decoder = keras.Model([latent_inputs, label], decoder_outputs, name=\"decoder\")\n",
    "#decoder = keras.Model(latent_inputs, decoder_outputs, name=\"decoder\")\n",
    "decoder.summary()"
   ]
  },
  {
   "cell_type": "markdown",
   "metadata": {
    "id": "GTEYDK64_vNa"
   },
   "source": [
    "## Define the VAE as a `Model` with a custom `train_step`"
   ]
  },
  {
   "cell_type": "code",
   "execution_count": null,
   "metadata": {
    "id": "SHqokBS__vNa"
   },
   "outputs": [],
   "source": [
    "\n",
    "class VAE(keras.Model):\n",
    "    def __init__(self, encoder, decoder, **kwargs):\n",
    "        super().__init__(**kwargs)\n",
    "        self.encoder = encoder\n",
    "        self.decoder = decoder\n",
    "        self.total_loss_tracker = keras.metrics.Mean(name=\"total_loss\")\n",
    "        self.reconstruction_loss_tracker = keras.metrics.Mean(\n",
    "            name=\"reconstruction_loss\"\n",
    "        )\n",
    "        self.kl_loss_tracker = keras.metrics.Mean(name=\"kl_loss\")\n",
    "\n",
    "    @property\n",
    "    def metrics(self):\n",
    "        return [\n",
    "            self.total_loss_tracker,\n",
    "            self.reconstruction_loss_tracker,\n",
    "            self.kl_loss_tracker,\n",
    "        ]\n",
    "\n",
    "    def train_step(self, data):\n",
    "        with tf.GradientTape() as tape:\n",
    "            z_mean, z_log_var, z = self.encoder(data)\n",
    "            reconstruction = self.decoder(z)\n",
    "            reconstruction_loss = tf.reduce_mean(\n",
    "                tf.reduce_sum(\n",
    "                    keras.losses.binary_crossentropy(data, reconstruction),\n",
    "                    axis=(1, 2),\n",
    "                )\n",
    "            )\n",
    "            kl_loss = -0.5 * (1 + z_log_var - tf.square(z_mean) - tf.exp(z_log_var))\n",
    "            kl_loss = tf.reduce_mean(tf.reduce_sum(kl_loss, axis=1))\n",
    "            total_loss = reconstruction_loss + kl_loss\n",
    "        grads = tape.gradient(total_loss, self.trainable_weights)\n",
    "        self.optimizer.apply_gradients(zip(grads, self.trainable_weights))\n",
    "        self.total_loss_tracker.update_state(total_loss)\n",
    "        self.reconstruction_loss_tracker.update_state(reconstruction_loss)\n",
    "        self.kl_loss_tracker.update_state(kl_loss)\n",
    "        return {\n",
    "            \"loss\": self.total_loss_tracker.result(),\n",
    "            \"reconstruction_loss\": self.reconstruction_loss_tracker.result(),\n",
    "            \"kl_loss\": self.kl_loss_tracker.result(),\n",
    "        }\n"
   ]
  },
  {
   "cell_type": "code",
   "execution_count": null,
   "metadata": {},
   "outputs": [],
   "source": [
    "class CVAE(keras.Model):\n",
    "    def __init__(self, encoder, decoder, **kwargs):\n",
    "        super().__init__(**kwargs)\n",
    "        self.encoder = encoder\n",
    "        self.decoder = decoder\n",
    "        self.total_loss_tracker = keras.metrics.Mean(name=\"total_loss\")\n",
    "        self.reconstruction_loss_tracker = keras.metrics.Mean(\n",
    "            name=\"reconstruction_loss\"\n",
    "        )\n",
    "        self.kl_loss_tracker = keras.metrics.Mean(name=\"kl_loss\")\n",
    "\n",
    "    @property\n",
    "    def metrics(self):\n",
    "        return [\n",
    "            self.total_loss_tracker,\n",
    "            self.reconstruction_loss_tracker,\n",
    "            self.kl_loss_tracker,\n",
    "        ]\n",
    "\n",
    "    def train_step(self, data):\n",
    "        #print(data[1])\n",
    "        images, labels = data\n",
    "\n",
    "        with tf.GradientTape() as tape:\n",
    "            z_mean, z_log_var, z = self.encoder([images, labels])\n",
    "            reconstruction = self.decoder([z, labels])\n",
    "            \n",
    "            # Reconstruction loss\n",
    "            reconstruction_loss = tf.reduce_mean(\n",
    "                tf.reduce_sum(\n",
    "                    keras.losses.binary_crossentropy(images, reconstruction),\n",
    "                    axis=(1, 2),\n",
    "                )\n",
    "            )\n",
    "\n",
    "            # KL Divergence loss\n",
    "            kl_loss = -0.5 * (1 + z_log_var - tf.square(z_mean) - tf.exp(z_log_var))\n",
    "            kl_loss = tf.reduce_mean(tf.reduce_sum(kl_loss, axis=1))\n",
    "\n",
    "            # Total loss\n",
    "            total_loss = reconstruction_loss + kl_loss\n",
    "\n",
    "        # Backpropagation\n",
    "        grads = tape.gradient(total_loss, self.trainable_weights)\n",
    "        self.optimizer.apply_gradients(zip(grads, self.trainable_weights))\n",
    "\n",
    "        # Update metrics\n",
    "        self.total_loss_tracker.update_state(total_loss)\n",
    "        self.reconstruction_loss_tracker.update_state(reconstruction_loss)\n",
    "        self.kl_loss_tracker.update_state(kl_loss)\n",
    "\n",
    "        return {\n",
    "            \"loss\": self.total_loss_tracker.result(),\n",
    "            \"reconstruction_loss\": self.reconstruction_loss_tracker.result(),\n",
    "            \"kl_loss\": self.kl_loss_tracker.result(),\n",
    "        }"
   ]
  },
  {
   "cell_type": "markdown",
   "metadata": {
    "id": "lPcUtOS2_vNa"
   },
   "source": [
    "## Train the VAE"
   ]
  },
  {
   "cell_type": "code",
   "execution_count": null,
   "metadata": {},
   "outputs": [],
   "source": [
    "len(mnist_digits), mnist_digits[0].shape, mnist_digits.shape, mnist_digits.dtype"
   ]
  },
  {
   "cell_type": "code",
   "execution_count": null,
   "metadata": {},
   "outputs": [],
   "source": []
  },
  {
   "cell_type": "code",
   "execution_count": null,
   "metadata": {
    "id": "gdxY_weS_vNa"
   },
   "outputs": [],
   "source": [
    "(x_train, _), (x_test, _) = keras.datasets.mnist.load_data()\n",
    "(x_train, y_train), (x_test, y_test) = keras.datasets.mnist.load_data()\n",
    "mnist_digits = np.concatenate([x_train, x_test], axis=0)\n",
    "mnist_digits = np.expand_dims(mnist_digits, -1).astype(\"float32\") / 255\n",
    "\n",
    "vae = VAE(encoder, decoder)\n",
    "vae.compile(optimizer=keras.optimizers.Adam())\n",
    "vae.fit(mnist_digits, epochs=30, batch_size=128)"
   ]
  },
  {
   "cell_type": "code",
   "execution_count": null,
   "metadata": {
    "scrolled": true
   },
   "outputs": [],
   "source": [
    "# Load MNIST dataset\n",
    "(x_train, y_train), (x_test, y_test) = keras.datasets.mnist.load_data()\n",
    "\n",
    "# Concatenate train and test sets\n",
    "mnist_digits = np.concatenate([x_train, x_test], axis=0)\n",
    "\n",
    "# Expand dimensions and normalize pixel values\n",
    "#mnist_digits = np.expand_dims(mnist_digits, -1).astype(\"float32\") / 255.0\n",
    "x_train = np.expand_dims(x_train, -1).astype(\"float32\") / 255.0\n",
    "\n",
    "# One-hot encode labels for conditional input\n",
    "num_classes = 10\n",
    "y_train_one_hot = keras.utils.to_categorical(y_train, num_classes)\n",
    "y_test_one_hot = keras.utils.to_categorical(y_test, num_classes)\n",
    "\n",
    "# Create CVAE model\n",
    "cvae = CVAE(encoder, decoder)\n",
    "cvae.compile(optimizer=keras.optimizers.Adam())\n",
    "\n",
    "# Train the CVAE model\n",
    "train_data = (x_train, y_train_one_hot)\n",
    "cvae.fit(train_data, epochs=30, batch_size=128)"
   ]
  },
  {
   "cell_type": "code",
   "execution_count": null,
   "metadata": {},
   "outputs": [],
   "source": [
    "import tensorflow as tf\n",
    "\n",
    "# Assuming your training data is a tuple of (images, labels)\n",
    "# Example: train_data = (x_train, y_train_one_hot)\n",
    "# Make sure it's a tuple with two elements: images and labels\n",
    "\n",
    "train_data = (x_train, y_train_one_hot)\n",
    "\n",
    "# Create a tf.data.Dataset\n",
    "dataset = tf.data.Dataset.from_tensor_slices(train_data)\n",
    "dataset = dataset.shuffle(buffer_size=len(x_train)).batch(128)\n",
    "cvae.fit(dataset, epochs=30)"
   ]
  },
  {
   "cell_type": "code",
   "execution_count": null,
   "metadata": {},
   "outputs": [],
   "source": [
    "# Assuming you have a tuple of (images, labels)\n",
    "train_data = (x_train, y_train_one_hot)\n",
    "\n",
    "# Create a tf.data.Dataset\n",
    "dataset = tf.data.Dataset.from_tensor_slices(train_data)\n",
    "dataset = dataset.shuffle(buffer_size=len(x_train)).batch(128)\n",
    "\n",
    "# Train the model using the tf.data.Dataset\n",
    "cvae.fit(dataset, epochs=30)"
   ]
  },
  {
   "cell_type": "code",
   "execution_count": null,
   "metadata": {},
   "outputs": [],
   "source": []
  },
  {
   "cell_type": "code",
   "execution_count": null,
   "metadata": {},
   "outputs": [],
   "source": []
  },
  {
   "cell_type": "code",
   "execution_count": null,
   "metadata": {},
   "outputs": [],
   "source": []
  },
  {
   "cell_type": "code",
   "execution_count": null,
   "metadata": {},
   "outputs": [],
   "source": [
    "def vae_loss(x, x_decoded_mean, z_log_var, z_mean):\n",
    "    x = tf.keras.backend.flatten(x)\n",
    "    x_decoded_mean = tf.keras.backend.flatten(x_decoded_mean)\n",
    "    xent_loss = keras.losses.binary_crossentropy(x, x_decoded_mean)\n",
    "    kl_loss = -0.5 * tf.reduce_mean(1 + z_log_var - tf.square(z_mean) - tf.exp(z_log_var))\n",
    "    return xent_loss + kl_loss\n",
    "\n",
    "vae.compile(optimizer='adam', loss=vae_loss)\n",
    "vae.fit(x_train, x_train, epochs=10, batch_size=32, validation_data=(x_test, x_test))"
   ]
  },
  {
   "cell_type": "code",
   "execution_count": null,
   "metadata": {},
   "outputs": [],
   "source": []
  },
  {
   "cell_type": "code",
   "execution_count": null,
   "metadata": {},
   "outputs": [],
   "source": []
  },
  {
   "cell_type": "code",
   "execution_count": null,
   "metadata": {},
   "outputs": [],
   "source": []
  },
  {
   "cell_type": "code",
   "execution_count": null,
   "metadata": {},
   "outputs": [],
   "source": []
  },
  {
   "cell_type": "code",
   "execution_count": null,
   "metadata": {},
   "outputs": [],
   "source": []
  },
  {
   "cell_type": "code",
   "execution_count": null,
   "metadata": {},
   "outputs": [],
   "source": []
  },
  {
   "cell_type": "code",
   "execution_count": null,
   "metadata": {},
   "outputs": [],
   "source": []
  },
  {
   "cell_type": "code",
   "execution_count": null,
   "metadata": {},
   "outputs": [],
   "source": [
    "import tensorflow as tf\n",
    "from tensorflow import keras\n",
    "from tensorflow.keras import layers\n",
    "\n",
    "class CVAE(keras.Model):\n",
    "    def __init__(self, latent_dim, num_classes):\n",
    "        super(CVAE, self).__init__()\n",
    "\n",
    "        self.latent_dim = latent_dim\n",
    "        self.num_classes = num_classes\n",
    "\n",
    "        # Build the encoder and decoder during instantiation\n",
    "        self.encoder = self.build_encoder()\n",
    "        self.decoder = self.build_decoder()\n",
    "\n",
    "    def build_encoder(self):\n",
    "        encoder_inputs = keras.Input(shape=(28, 28, 1))  # Assuming input shape is (28, 28, 1)\n",
    "        label_inputs = keras.Input(shape=(self.num_classes,))\n",
    "\n",
    "        # Use a dense layer to match label dimensions to the number of channels in encoder_inputs\n",
    "        label_dense = layers.Dense(28 * 28)(label_inputs)\n",
    "        label_reshaped = layers.Reshape((28, 28, 1))(label_dense)\n",
    "        x = layers.concatenate([encoder_inputs, label_reshaped])\n",
    "\n",
    "        x = layers.Conv2D(32, 3, strides=2, padding='same', activation='relu')(x)\n",
    "        x = layers.Conv2D(64, 3, strides=2, padding='same', activation='relu')(x)\n",
    "        x = layers.Conv2D(128, 3, strides=2, padding='same', activation='relu')(x)\n",
    "\n",
    "        x = layers.Flatten()(x)\n",
    "\n",
    "        z_mean = layers.Dense(self.latent_dim)(x)\n",
    "        z_log_var = layers.Dense(self.latent_dim)(x)\n",
    "\n",
    "        return keras.Model([encoder_inputs, label_inputs], [z_mean, z_log_var])\n",
    "\n",
    "    def build_decoder(self):\n",
    "        latent_inputs = keras.Input(shape=(self.latent_dim,))\n",
    "        label_inputs = keras.Input(shape=(self.num_classes,))\n",
    "\n",
    "        x = layers.concatenate([latent_inputs, label_inputs])\n",
    "\n",
    "        x = layers.Dense(7 * 7 * 128, activation='relu')(x)\n",
    "        x = layers.Reshape((7, 7, 128))(x)\n",
    "\n",
    "        x = layers.Conv2DTranspose(64, 3, strides=2, padding='same', activation='relu')(x)\n",
    "        x = layers.Conv2DTranspose(32, 3, strides=2, padding='same', activation='relu')(x)\n",
    "        decoder_outputs = layers.Conv2DTranspose(1, 3, padding='same', activation='sigmoid')(x)\n",
    "\n",
    "        return keras.Model([latent_inputs, label_inputs], decoder_outputs)\n",
    "\n",
    "    def call(self, inputs, training=None, mask=None):\n",
    "        encoder_inputs, label_inputs = inputs\n",
    "\n",
    "        def sampling(args):\n",
    "            z_mean, z_log_var = args\n",
    "            epsilon = tf.random.normal(shape=tf.shape(z_mean))\n",
    "            return z_mean + tf.exp(0.5 * z_log_var) * epsilon\n",
    "\n",
    "        z_mean, z_log_var = self.encoder(encoder_inputs)\n",
    "        z = sampling([z_mean, z_log_var]).numpy()\n",
    "        decoder_outputs = self.decoder([z, label_inputs])\n",
    "\n",
    "        return decoder_outputs\n",
    "\n",
    "# Instantiate the model\n",
    "latent_dim = 20\n",
    "num_classes = 10\n",
    "cvae = CVAE(latent_dim, num_classes)\n",
    "\n",
    "# Display model summary\n",
    "cvae.build((None, 28, 28, 1))  # Explicitly build the model with a batch input shape\n",
    "cvae.summary()"
   ]
  },
  {
   "cell_type": "code",
   "execution_count": 5,
   "metadata": {},
   "outputs": [
    {
     "name": "stdout",
     "output_type": "stream",
     "text": [
      "WARNING:tensorflow:From C:\\Users\\wn00217454\\Anaconda3\\envs\\cv\\lib\\site-packages\\keras\\src\\engine\\base_layer_utils.py:189: The name tf.placeholder is deprecated. Please use tf.compat.v1.placeholder instead.\n",
      "\n",
      "Model: \"cvae_1\"\n",
      "_________________________________________________________________\n",
      " Layer (type)                Output Shape              Param #   \n",
      "=================================================================\n",
      " encoder (Functional)        [(None, 20),              153208    \n",
      "                              (None, 20),                        \n",
      "                              (None, 20)]                        \n",
      "                                                                 \n",
      " decoder (Functional)        (None, 28, 28, 1)         152897    \n",
      "                                                                 \n",
      "=================================================================\n",
      "Total params: 306105 (1.17 MB)\n",
      "Trainable params: 306105 (1.17 MB)\n",
      "Non-trainable params: 0 (0.00 Byte)\n",
      "_________________________________________________________________\n"
     ]
    }
   ],
   "source": [
    "import tensorflow as tf\n",
    "from tensorflow import keras\n",
    "from tensorflow.keras import layers\n",
    "\n",
    "class Sampling(layers.Layer):\n",
    "    def call(self, inputs):\n",
    "        z_mean, z_log_var = inputs\n",
    "        batch = tf.shape(z_mean)[0]\n",
    "        dim = tf.shape(z_mean)[1]\n",
    "        epsilon = tf.keras.backend.random_normal(shape=(batch, dim))\n",
    "        return z_mean + tf.exp(0.5 * z_log_var) * epsilon\n",
    "\n",
    "class CVAE(keras.Model):\n",
    "    def __init__(self, latent_dim, num_classes):\n",
    "        super(CVAE, self).__init__()\n",
    "        self.latent_dim = latent_dim\n",
    "        self.num_classes = num_classes\n",
    "\n",
    "        # Encoder\n",
    "        self.encoder_inputs = layers.Input(shape=(28, 28, 1))\n",
    "        self.label_inputs = layers.Input(shape=(num_classes,))\n",
    "        \n",
    "        # Apply a dense layer to label_inputs\n",
    "        label_dense = layers.Dense(28 * 28)(self.label_inputs)\n",
    "        label_reshaped = layers.Reshape((28, 28, 1))(label_dense)\n",
    "        \n",
    "        # Concatenate encoder_inputs and reshaped label\n",
    "        x = layers.concatenate([self.encoder_inputs, label_reshaped])\n",
    "        x = layers.Conv2D(32, 3, strides=2, padding='same', activation='relu')(x)\n",
    "        x = layers.Conv2D(64, 3, strides=2, padding='same', activation='relu')(x)\n",
    "        x = layers.Flatten()(x)\n",
    "\n",
    "        self.z_mean = layers.Dense(latent_dim, name='z_mean')(x)\n",
    "        self.z_log_var = layers.Dense(latent_dim, name='z_log_var')(x)\n",
    "        self.z = Sampling()(inputs=[self.z_mean, self.z_log_var])\n",
    "\n",
    "        # Decoder\n",
    "        self.decoder_inputs = layers.Input(shape=(latent_dim,))\n",
    "        x = layers.concatenate([self.decoder_inputs, self.label_inputs])\n",
    "        x = layers.Dense(7 * 7 * 64, activation=\"relu\")(x)\n",
    "        x = layers.Reshape((7, 7, 64))(x)\n",
    "        x = layers.Conv2DTranspose(64, 3, activation=\"relu\", strides=2, padding=\"same\")(x)\n",
    "        x = layers.Conv2DTranspose(32, 3, activation=\"relu\", strides=2, padding=\"same\")(x)\n",
    "        self.decoder_outputs = layers.Conv2DTranspose(1, 3, activation=\"sigmoid\", padding=\"same\")(x)\n",
    "\n",
    "        # Build the models\n",
    "        self.encoder = keras.Model([self.encoder_inputs, self.label_inputs], [self.z_mean, self.z_log_var, self.z], name='encoder')\n",
    "        self.decoder = keras.Model([self.decoder_inputs, self.label_inputs], self.decoder_outputs, name='decoder')\n",
    "\n",
    "    def call(self, inputs, training=None, mask=None):\n",
    "        encoder_inputs, decoder_inputs, label_inputs = inputs\n",
    "        z_mean, z_log_var, z = self.encoder([encoder_inputs, label_inputs])\n",
    "        decoder_outputs = self.decoder([decoder_inputs, label_inputs])\n",
    "        return decoder_outputs\n",
    "\n",
    "# Instantiate the model\n",
    "latent_dim = 20\n",
    "num_classes = 10\n",
    "cvae = CVAE(latent_dim, num_classes)\n",
    "\n",
    "# Display model summary\n",
    "cvae.build([(None, 28, 28, 1), (None, latent_dim), (None, num_classes)])\n",
    "cvae.summary()"
   ]
  },
  {
   "cell_type": "code",
   "execution_count": null,
   "metadata": {},
   "outputs": [],
   "source": [
    "# Load MNIST dataset\n",
    "(x_train, y_train), (_, _) = keras.datasets.mnist.load_data()\n",
    "\n",
    "# Preprocess the data\n",
    "x_train = x_train.astype('float32') / 255.0\n",
    "x_train = x_train.reshape((x_train.shape[0], 28, 28, 1))\n",
    "\n",
    "# One-hot encode labels\n",
    "y_train_one_hot = keras.utils.to_categorical(y_train, num_classes)\n",
    "\n",
    "# Compile the model\n",
    "cvae.compile(optimizer=keras.optimizers.Adam(), loss='binary_crossentropy')\n",
    "\n",
    "# Train the model\n",
    "cvae.fit([x_train, y_train_one_hot, y_train_one_hot], x_train, epochs=30, batch_size=128)"
   ]
  },
  {
   "cell_type": "code",
   "execution_count": null,
   "metadata": {},
   "outputs": [],
   "source": []
  },
  {
   "cell_type": "code",
   "execution_count": null,
   "metadata": {},
   "outputs": [],
   "source": []
  },
  {
   "cell_type": "code",
   "execution_count": null,
   "metadata": {},
   "outputs": [],
   "source": [
    "import tensorflow as tf\n",
    "from tensorflow import keras\n",
    "from tensorflow.keras import layers\n",
    "\n",
    "(x_train, y_train), (_, _) = keras.datasets.mnist.load_data()\n",
    "x_train = x_train.astype('float32') / 255.0\n",
    "x_train = x_train.reshape((x_train.shape[0], 28, 28, 1))\n",
    "\n",
    "# One-hot encode labels\n",
    "y_train_one_hot = tf.one_hot(y_train, 10)\n",
    "\n",
    "# Define the sampling layer\n",
    "class Sampling(layers.Layer):\n",
    "    def call(self, inputs):\n",
    "        z_mean, z_log_var = inputs\n",
    "        batch = tf.shape(z_mean)[0]\n",
    "        dim = tf.shape(z_mean)[1]\n",
    "        epsilon = tf.keras.backend.random_normal(shape=(batch, dim))\n",
    "        return z_mean + tf.exp(0.5 * z_log_var) * epsilon\n",
    "\n",
    "# Define the CVAE model\n",
    "class CVAE(keras.Model):\n",
    "    def __init__(self, latent_dim, num_classes):\n",
    "        super(CVAE, self).__init__()\n",
    "        self.latent_dim = latent_dim\n",
    "        self.num_classes = num_classes\n",
    "\n",
    "        # Encoder\n",
    "        self.encoder_inputs = layers.Input(shape=(28, 28, 1))\n",
    "        self.label_inputs = layers.Input(shape=(self.num_classes,))\n",
    "        x = layers.Conv2D(32, 3, strides=2, padding='same', activation='relu')(self.encoder_inputs)\n",
    "        x = layers.Conv2D(64, 3, strides=2, padding='same', activation='relu')(x)\n",
    "        x = layers.Flatten()(x)\n",
    "        x = layers.concatenate([x, self.label_inputs])  # Concatenate here\n",
    "        z_mean = layers.Dense(latent_dim, name=\"z_mean\")(x)\n",
    "        z_log_var = layers.Dense(latent_dim, name=\"z_log_var\")(x)\n",
    "\n",
    "        # Sampler\n",
    "        z = Sampling()([z_mean, z_log_var])\n",
    "\n",
    "        # Encoder Model\n",
    "        self.encoder = keras.Model([self.encoder_inputs, self.label_inputs], [z_mean, z_log_var, z], name=\"encoder\")\n",
    "\n",
    "        # Decoder\n",
    "        decoder_inputs = layers.Input(shape=(latent_dim,))\n",
    "        x = layers.concatenate([decoder_inputs, self.label_inputs])\n",
    "        x = layers.Dense(7 * 7 * 64, activation='relu')(x)\n",
    "        x = layers.Reshape((7, 7, 64))(x)\n",
    "        x = layers.Conv2DTranspose(64, 3, strides=2, padding='same', activation='relu')(x)\n",
    "        x = layers.Conv2DTranspose(32, 3, strides=2, padding='same', activation='relu')(x)\n",
    "        decoder_outputs = layers.Conv2DTranspose(1, 3, padding='same', activation='sigmoid')(x)\n",
    "\n",
    "        # Decoder Model\n",
    "        self.decoder = keras.Model([decoder_inputs, self.label_inputs], decoder_outputs, name=\"decoder\")\n",
    "\n",
    "    def call(self, inputs, training=None, mask=None):\n",
    "        encoder_inputs, decoder_inputs, label_inputs = inputs\n",
    "        z_mean, z_log_var, z = self.encoder([encoder_inputs, label_inputs])\n",
    "        decoder_outputs = self.decoder([z, label_inputs])\n",
    "        return decoder_outputs, z_mean, z_log_var\n",
    "\n",
    "# Define the loss function for CVAE\n",
    "def vae_loss(x, x_decoded_mean, z_mean, z_log_var):\n",
    "    reconstruction_loss = keras.losses.binary_crossentropy(tf.keras.backend.flatten(x), tf.keras.backend.flatten(x_decoded_mean))\n",
    "    reconstruction_loss *= 28 * 28  # Assuming input shape is (28, 28, 1)\n",
    "\n",
    "    kl_loss = 1 + z_log_var - tf.keras.backend.square(z_mean) - tf.keras.backend.exp(z_log_var)\n",
    "    kl_loss = tf.keras.backend.sum(kl_loss, axis=-1)\n",
    "    kl_loss *= -0.5\n",
    "\n",
    "    return tf.keras.backend.mean(reconstruction_loss + kl_loss)\n",
    "\n",
    "# Instantiate the model with specified latent dimension and number of classes\n",
    "latent_dim = 20\n",
    "num_classes = 10\n",
    "cvae = CVAE(latent_dim, num_classes)\n",
    "\n",
    "# Compile the model with the custom loss function\n",
    "cvae.compile(optimizer=keras.optimizers.Adam(learning_rate=0.001), loss=vae_loss)\n",
    "\n",
    "# Train the model\n",
    "cvae.fit([x_train, y_train_one_hot], x_train, epochs=100, batch_size=128)"
   ]
  },
  {
   "cell_type": "code",
   "execution_count": null,
   "metadata": {},
   "outputs": [],
   "source": [
    "import numpy as np\n",
    "import matplotlib.pyplot as plt\n",
    "\n",
    "def generate_images(model, num_images, latent_dim, num_classes):\n",
    "    # Generate random latent vectors\n",
    "    random_latent_vectors = np.random.normal(size=(num_images, latent_dim))\n",
    "    \n",
    "    # Generate random one-hot encoded class labels\n",
    "    random_labels = np.eye(num_classes)[np.random.choice(num_classes, num_images)]\n",
    "    print(random_labels)\n",
    "\n",
    "    # Generate images from the decoder\n",
    "    generated_images = model.decoder.predict([random_latent_vectors, random_labels])\n",
    "\n",
    "    # Display the generated images\n",
    "    plt.figure(figsize=(10, 10))\n",
    "    for i in range(num_images):\n",
    "        plt.subplot(1, num_images, i + 1)\n",
    "        plt.imshow(generated_images[i, :, :, 0], cmap='gray')\n",
    "        plt.axis('off')\n",
    "    plt.show()\n",
    "\n",
    "# Assuming your trained model is named 'cvae'\n",
    "generate_images(cvae, num_images=5, latent_dim=20, num_classes=10)"
   ]
  },
  {
   "cell_type": "code",
   "execution_count": null,
   "metadata": {},
   "outputs": [],
   "source": []
  },
  {
   "cell_type": "code",
   "execution_count": null,
   "metadata": {},
   "outputs": [],
   "source": []
  },
  {
   "cell_type": "code",
   "execution_count": null,
   "metadata": {},
   "outputs": [],
   "source": []
  },
  {
   "cell_type": "code",
   "execution_count": null,
   "metadata": {},
   "outputs": [],
   "source": []
  },
  {
   "cell_type": "code",
   "execution_count": null,
   "metadata": {},
   "outputs": [],
   "source": []
  },
  {
   "cell_type": "code",
   "execution_count": null,
   "metadata": {},
   "outputs": [],
   "source": []
  },
  {
   "cell_type": "code",
   "execution_count": null,
   "metadata": {},
   "outputs": [],
   "source": [
    "dataset"
   ]
  },
  {
   "cell_type": "code",
   "execution_count": null,
   "metadata": {},
   "outputs": [],
   "source": []
  },
  {
   "cell_type": "code",
   "execution_count": null,
   "metadata": {},
   "outputs": [],
   "source": []
  },
  {
   "cell_type": "code",
   "execution_count": null,
   "metadata": {},
   "outputs": [],
   "source": []
  },
  {
   "cell_type": "code",
   "execution_count": null,
   "metadata": {},
   "outputs": [],
   "source": []
  },
  {
   "cell_type": "code",
   "execution_count": null,
   "metadata": {},
   "outputs": [],
   "source": []
  },
  {
   "cell_type": "code",
   "execution_count": null,
   "metadata": {},
   "outputs": [],
   "source": [
    "x_train.shape, y_train_one_hot.shape"
   ]
  },
  {
   "cell_type": "code",
   "execution_count": null,
   "metadata": {},
   "outputs": [],
   "source": []
  },
  {
   "cell_type": "code",
   "execution_count": null,
   "metadata": {},
   "outputs": [],
   "source": []
  },
  {
   "cell_type": "code",
   "execution_count": null,
   "metadata": {},
   "outputs": [],
   "source": []
  },
  {
   "cell_type": "markdown",
   "metadata": {
    "id": "1qoHemGh_vNb"
   },
   "source": [
    "## Display a grid of sampled digits"
   ]
  },
  {
   "cell_type": "code",
   "execution_count": null,
   "metadata": {
    "id": "G_SyVCsI_vNb"
   },
   "outputs": [],
   "source": [
    "import matplotlib.pyplot as plt\n",
    "\n",
    "\n",
    "def plot_latent_space(vae, n=30, figsize=15):\n",
    "    # display a n*n 2D manifold of digits\n",
    "    digit_size = 28\n",
    "    scale = 1.0\n",
    "    figure = np.zeros((digit_size * n, digit_size * n))\n",
    "    # linearly spaced coordinates corresponding to the 2D plot\n",
    "    # of digit classes in the latent space\n",
    "    grid_x = np.linspace(-scale, scale, n)\n",
    "    grid_y = np.linspace(-scale, scale, n)[::-1]\n",
    "\n",
    "    for i, yi in enumerate(grid_y):\n",
    "        for j, xi in enumerate(grid_x):\n",
    "            z_sample = np.array([[xi, yi]])\n",
    "            x_decoded = vae.decoder.predict(z_sample, verbose=0)\n",
    "            digit = x_decoded[0].reshape(digit_size, digit_size)\n",
    "            figure[\n",
    "                i * digit_size : (i + 1) * digit_size,\n",
    "                j * digit_size : (j + 1) * digit_size,\n",
    "            ] = digit\n",
    "\n",
    "    plt.figure(figsize=(figsize, figsize))\n",
    "    start_range = digit_size // 2\n",
    "    end_range = n * digit_size + start_range\n",
    "    pixel_range = np.arange(start_range, end_range, digit_size)\n",
    "    sample_range_x = np.round(grid_x, 1)\n",
    "    sample_range_y = np.round(grid_y, 1)\n",
    "    plt.xticks(pixel_range, sample_range_x)\n",
    "    plt.yticks(pixel_range, sample_range_y)\n",
    "    plt.xlabel(\"z[0]\")\n",
    "    plt.ylabel(\"z[1]\")\n",
    "    plt.imshow(figure, cmap=\"Greys_r\")\n",
    "    plt.show()\n",
    "\n",
    "\n",
    "plot_latent_space(vae)"
   ]
  },
  {
   "cell_type": "markdown",
   "metadata": {
    "id": "swIDjbY5_vNb"
   },
   "source": [
    "## Display how the latent space clusters different digit classes"
   ]
  },
  {
   "cell_type": "code",
   "execution_count": null,
   "metadata": {
    "id": "a4SYQ_Xc_vNb"
   },
   "outputs": [],
   "source": [
    "\n",
    "def plot_label_clusters(vae, data, labels):\n",
    "    # display a 2D plot of the digit classes in the latent space\n",
    "    z_mean, _, _ = vae.encoder.predict(data, verbose=0)\n",
    "    plt.figure(figsize=(12, 10))\n",
    "    plt.scatter(z_mean[:, 0], z_mean[:, 1], c=labels)\n",
    "    plt.colorbar()\n",
    "    plt.xlabel(\"z[0]\")\n",
    "    plt.ylabel(\"z[1]\")\n",
    "    plt.show()\n",
    "\n",
    "\n",
    "(x_train, y_train), _ = keras.datasets.mnist.load_data()\n",
    "x_train = np.expand_dims(x_train, -1).astype(\"float32\") / 255\n",
    "\n",
    "plot_label_clusters(vae, x_train, y_train)"
   ]
  },
  {
   "cell_type": "code",
   "execution_count": null,
   "metadata": {},
   "outputs": [],
   "source": []
  }
 ],
 "metadata": {
  "accelerator": "GPU",
  "colab": {
   "name": "vae",
   "provenance": [],
   "toc_visible": true
  },
  "kernelspec": {
   "display_name": "Python 3 (ipykernel)",
   "language": "python",
   "name": "python3"
  },
  "language_info": {
   "codemirror_mode": {
    "name": "ipython",
    "version": 3
   },
   "file_extension": ".py",
   "mimetype": "text/x-python",
   "name": "python",
   "nbconvert_exporter": "python",
   "pygments_lexer": "ipython3",
   "version": "3.10.0"
  }
 },
 "nbformat": 4,
 "nbformat_minor": 4
}
