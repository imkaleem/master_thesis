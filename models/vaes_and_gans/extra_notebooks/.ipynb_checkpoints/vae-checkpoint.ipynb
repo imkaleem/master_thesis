{
 "cells": [
  {
   "cell_type": "code",
   "execution_count": 1,
   "id": "0d98f55f-ad22-4831-aaec-9d1305d350b7",
   "metadata": {},
   "outputs": [],
   "source": [
    "import os\n",
    "import cv2\n",
    "import numpy as np\n",
    "from PIL import Image"
   ]
  },
  {
   "cell_type": "markdown",
   "id": "0d21e376-31ae-424b-a052-a3d74894ff17",
   "metadata": {},
   "source": [
    "### data loading"
   ]
  },
  {
   "cell_type": "code",
   "execution_count": 2,
   "id": "0c41d415-2033-4e6d-97e9-19507d0d4b1f",
   "metadata": {},
   "outputs": [],
   "source": [
    "folder = r\"C:\\Users\\wnxxxxxx\\computer_vision\\thesis\\data\\expand_labelled_dataset\\6020021201\""
   ]
  },
  {
   "cell_type": "code",
   "execution_count": 7,
   "id": "4f1ee6e3-aa01-4be0-abf2-ce51d7051a6f",
   "metadata": {},
   "outputs": [],
   "source": [
    "def image_folder_to_arrays(folder, size = 512):\n",
    "    height = width = size\n",
    "    # List all files in the folder\n",
    "    file_names = os.listdir(folder)\n",
    "    \n",
    "    # Load and preprocess images\n",
    "    images = []\n",
    "    for file_name in file_names:\n",
    "        image_path = os.path.join(folder, file_name)\n",
    "        img = Image.open(image_path)\n",
    "        # Perform any necessary preprocessing (resize, normalize, etc.)\n",
    "        img = img.resize((width, height))\n",
    "        img_array = np.array(img) / 255.0  # Normalize pixel values between 0 and 1\n",
    "        images.append(img_array)\n",
    "    \n",
    "    images = np.array(images)\n",
    "    return images"
   ]
  },
  {
   "cell_type": "code",
   "execution_count": 8,
   "id": "e9f230d0-f50e-4753-a3ee-be4205e76c4a",
   "metadata": {},
   "outputs": [],
   "source": [
    "images = image_folder_to_arrays(folder, 512)"
   ]
  },
  {
   "cell_type": "code",
   "execution_count": 9,
   "id": "c7b0fc2e-a755-4adb-91a8-3b5586514d06",
   "metadata": {},
   "outputs": [
    {
     "data": {
      "text/plain": [
       "(37, 512, 512, 3)"
      ]
     },
     "execution_count": 9,
     "metadata": {},
     "output_type": "execute_result"
    }
   ],
   "source": [
    "images.shape"
   ]
  },
  {
   "cell_type": "code",
   "execution_count": 10,
   "id": "4eedcf83-6403-4991-aa00-d293fde38e1d",
   "metadata": {},
   "outputs": [
    {
     "data": {
      "text/plain": [
       "29097984"
      ]
     },
     "execution_count": 10,
     "metadata": {},
     "output_type": "execute_result"
    }
   ],
   "source": [
    "images.size"
   ]
  },
  {
   "cell_type": "code",
   "execution_count": null,
   "id": "6771ada1-7adf-4a34-9f69-b9885aa9b73e",
   "metadata": {},
   "outputs": [],
   "source": []
  },
  {
   "cell_type": "code",
   "execution_count": null,
   "id": "a19abca4-d3e0-47a1-9a25-24b5abd0a7d1",
   "metadata": {},
   "outputs": [],
   "source": []
  },
  {
   "cell_type": "code",
   "execution_count": null,
   "id": "9470742f-8484-4a7f-a09e-a4f14d7c51ad",
   "metadata": {},
   "outputs": [],
   "source": []
  },
  {
   "cell_type": "code",
   "execution_count": null,
   "id": "c01bccfb-908d-425a-91c6-26568afe265c",
   "metadata": {},
   "outputs": [],
   "source": []
  },
  {
   "cell_type": "markdown",
   "id": "ca05b021-2080-445a-bccc-100933ee57f1",
   "metadata": {},
   "source": [
    "### modelling"
   ]
  },
  {
   "cell_type": "code",
   "execution_count": 16,
   "id": "5634ac23-071c-4b85-8a2f-7ee931dc1627",
   "metadata": {},
   "outputs": [],
   "source": [
    "from keras.layers import Input, Lambda, Flatten, Reshape, Dense\n",
    "from keras.models import Model\n",
    "from keras import backend as K\n",
    "import tensorflow as tf\n",
    "\n",
    "# Set random seed for reproducibility\n",
    "tf.random.set_seed(42)"
   ]
  },
  {
   "cell_type": "code",
   "execution_count": 17,
   "id": "e2a77c0f-7821-48ca-96d0-b6771fa84694",
   "metadata": {},
   "outputs": [],
   "source": [
    "input_shape = (512, 512, 3)\n",
    "latent_dim = 2\n",
    "\n",
    "# Encoder\n",
    "inputs = Input(shape=input_shape)\n",
    "x = Flatten()(inputs)\n",
    "x = Dense(256, activation='relu')(x)\n",
    "z_mean = Dense(latent_dim)(x)\n",
    "z_log_var = Dense(latent_dim)(x)\n",
    "\n",
    "# Sampling layer\n",
    "def sampling(args):\n",
    "    z_mean, z_log_var = args\n",
    "    batch = K.shape(z_mean)[0]\n",
    "    dim = K.int_shape(z_mean)[1]\n",
    "    epsilon = K.random_normal(shape=(batch, dim), mean=0., stddev=1.0)\n",
    "    return z_mean + K.exp(0.5 * z_log_var) * epsilon\n",
    "\n",
    "z = Lambda(sampling, output_shape=(latent_dim,))([z_mean, z_log_var])\n",
    "\n",
    "# Decoder\n",
    "decoder_h = Dense(256, activation='relu')\n",
    "decoder_out = Dense(np.prod(input_shape), activation='sigmoid')\n",
    "h_decoded = decoder_h(z)\n",
    "x_decoded_mean = decoder_out(h_decoded)\n",
    "x_decoded_mean = Reshape(input_shape)(x_decoded_mean)\n",
    "\n",
    "# VAE Model\n",
    "vae = Model(inputs, x_decoded_mean)\n",
    "\n",
    "# Loss function\n",
    "xent_loss = K.sum(K.binary_crossentropy(Flatten()(inputs), Flatten()(x_decoded_mean)), axis=-1)\n",
    "kl_loss = -0.5 * K.sum(1 + z_log_var - K.square(z_mean) - K.exp(z_log_var), axis=-1)\n",
    "vae_loss = K.mean(xent_loss + kl_loss)\n",
    "\n",
    "vae.add_loss(vae_loss)\n",
    "vae.compile(optimizer='adam')"
   ]
  },
  {
   "cell_type": "code",
   "execution_count": 28,
   "id": "79b1a3ee-61ca-492c-a818-f5237ac4e7d5",
   "metadata": {},
   "outputs": [
    {
     "data": {
      "text/plain": [
       "<KerasTensor: shape=(None, 512, 512, 3) dtype=float32 (created by layer 'input_4')>"
      ]
     },
     "execution_count": 28,
     "metadata": {},
     "output_type": "execute_result"
    }
   ],
   "source": [
    "inputs"
   ]
  },
  {
   "cell_type": "code",
   "execution_count": 18,
   "id": "ab889aa6-3e4c-4a9f-819d-560470a9d946",
   "metadata": {},
   "outputs": [
    {
     "name": "stdout",
     "output_type": "stream",
     "text": [
      "Epoch 1/50\n",
      "5/5 [==============================] - 26s 5s/step - loss: 1647370.1250\n",
      "Epoch 2/50\n",
      "5/5 [==============================] - 25s 5s/step - loss: 1240107.3750\n",
      "Epoch 3/50\n",
      "5/5 [==============================] - 26s 5s/step - loss: 466366.5938\n",
      "Epoch 4/50\n",
      "5/5 [==============================] - 28s 6s/step - loss: 1344674560.0000\n",
      "Epoch 5/50\n",
      "5/5 [==============================] - 26s 5s/step - loss: 1471278.7500\n",
      "Epoch 6/50\n",
      "5/5 [==============================] - 24s 5s/step - loss: 1072510.0000\n",
      "Epoch 7/50\n",
      "5/5 [==============================] - 24s 5s/step - loss: 358713.4688\n",
      "Epoch 8/50\n",
      "5/5 [==============================] - 24s 5s/step - loss: 1875109.3750\n",
      "Epoch 9/50\n",
      "5/5 [==============================] - 24s 5s/step - loss: 281958.2812\n",
      "Epoch 10/50\n",
      "5/5 [==============================] - 24s 5s/step - loss: 245490.9219\n",
      "Epoch 11/50\n",
      "5/5 [==============================] - 24s 5s/step - loss: 189595.3906\n",
      "Epoch 12/50\n",
      "5/5 [==============================] - 24s 5s/step - loss: 169703.5781\n",
      "Epoch 13/50\n",
      "5/5 [==============================] - 24s 5s/step - loss: 165761.5938\n",
      "Epoch 14/50\n",
      "5/5 [==============================] - 24s 5s/step - loss: 161753.4688\n",
      "Epoch 15/50\n",
      "5/5 [==============================] - 24s 5s/step - loss: 162146.4844\n",
      "Epoch 16/50\n",
      "5/5 [==============================] - 24s 5s/step - loss: 161331.2656\n",
      "Epoch 17/50\n",
      "5/5 [==============================] - 24s 5s/step - loss: 159708.7188\n",
      "Epoch 18/50\n",
      "5/5 [==============================] - 24s 5s/step - loss: 162710.1562\n",
      "Epoch 19/50\n",
      "5/5 [==============================] - 24s 5s/step - loss: 160224.0781\n",
      "Epoch 20/50\n",
      "5/5 [==============================] - 24s 5s/step - loss: 158173.8906\n",
      "Epoch 21/50\n",
      "5/5 [==============================] - 24s 5s/step - loss: 157766.7031\n",
      "Epoch 22/50\n",
      "5/5 [==============================] - 24s 5s/step - loss: 155931.4062\n",
      "Epoch 23/50\n",
      "5/5 [==============================] - 24s 5s/step - loss: 155012.4531\n",
      "Epoch 24/50\n",
      "5/5 [==============================] - 24s 5s/step - loss: 154876.1562\n",
      "Epoch 25/50\n",
      "5/5 [==============================] - 24s 5s/step - loss: 154378.3906\n",
      "Epoch 26/50\n",
      "5/5 [==============================] - 24s 5s/step - loss: 153492.3594\n",
      "Epoch 27/50\n",
      "5/5 [==============================] - 24s 5s/step - loss: 155079.2188\n",
      "Epoch 28/50\n",
      "5/5 [==============================] - 24s 5s/step - loss: 157677.8281\n",
      "Epoch 29/50\n",
      "5/5 [==============================] - 24s 5s/step - loss: 156295.9375\n",
      "Epoch 30/50\n",
      "5/5 [==============================] - 24s 5s/step - loss: 153898.0938\n",
      "Epoch 31/50\n",
      "5/5 [==============================] - 24s 5s/step - loss: 156105.9062\n",
      "Epoch 32/50\n",
      "5/5 [==============================] - 28s 6s/step - loss: 156025.9688\n",
      "Epoch 33/50\n",
      "5/5 [==============================] - 27s 5s/step - loss: 153397.4062\n",
      "Epoch 34/50\n",
      "5/5 [==============================] - 25s 5s/step - loss: 152343.0781\n",
      "Epoch 35/50\n",
      "5/5 [==============================] - 25s 5s/step - loss: 153301.8281\n",
      "Epoch 36/50\n",
      "5/5 [==============================] - 25s 5s/step - loss: 153412.1250\n",
      "Epoch 37/50\n",
      "5/5 [==============================] - 26s 5s/step - loss: 152611.9531\n",
      "Epoch 38/50\n",
      "5/5 [==============================] - 26s 5s/step - loss: 152304.6094\n",
      "Epoch 39/50\n",
      "5/5 [==============================] - 26s 5s/step - loss: 153631.2969\n",
      "Epoch 40/50\n",
      "5/5 [==============================] - 25s 5s/step - loss: 160338.0781\n",
      "Epoch 41/50\n",
      "5/5 [==============================] - 25s 5s/step - loss: 164150.0469\n",
      "Epoch 42/50\n",
      "5/5 [==============================] - 26s 5s/step - loss: 166591.7969\n",
      "Epoch 43/50\n",
      "5/5 [==============================] - 26s 5s/step - loss: 161813.0312\n",
      "Epoch 44/50\n",
      "5/5 [==============================] - 26s 5s/step - loss: 157368.1562\n",
      "Epoch 45/50\n",
      "5/5 [==============================] - 26s 5s/step - loss: 161772.1406\n",
      "Epoch 46/50\n",
      "5/5 [==============================] - 27s 5s/step - loss: 163042.2500\n",
      "Epoch 47/50\n",
      "5/5 [==============================] - 26s 5s/step - loss: 157052.7188\n",
      "Epoch 48/50\n",
      "5/5 [==============================] - 25s 5s/step - loss: 157484.6250\n",
      "Epoch 49/50\n",
      "5/5 [==============================] - 27s 5s/step - loss: 154990.0312\n",
      "Epoch 50/50\n",
      "5/5 [==============================] - 27s 5s/step - loss: 153571.6562\n"
     ]
    },
    {
     "data": {
      "text/plain": [
       "<keras.src.callbacks.History at 0x19d9f9cab90>"
      ]
     },
     "execution_count": 18,
     "metadata": {},
     "output_type": "execute_result"
    }
   ],
   "source": [
    "# Train the VAE model\n",
    "vae.fit(images, epochs=50, batch_size=8)"
   ]
  },
  {
   "cell_type": "code",
   "execution_count": 27,
   "id": "307cf0db-957a-45ec-af12-0e9b2a8d7cbb",
   "metadata": {},
   "outputs": [
    {
     "ename": "ValueError",
     "evalue": "in user code:\n\n    File \"C:\\Users\\wn00217454\\Anaconda3\\envs\\cv\\lib\\site-packages\\keras\\src\\engine\\training.py\", line 2416, in predict_function  *\n        return step_function(self, iterator)\n    File \"C:\\Users\\wn00217454\\Anaconda3\\envs\\cv\\lib\\site-packages\\keras\\src\\engine\\training.py\", line 2401, in step_function  **\n        outputs = model.distribute_strategy.run(run_step, args=(data,))\n    File \"C:\\Users\\wn00217454\\Anaconda3\\envs\\cv\\lib\\site-packages\\keras\\src\\engine\\training.py\", line 2389, in run_step  **\n        outputs = model.predict_step(data)\n    File \"C:\\Users\\wn00217454\\Anaconda3\\envs\\cv\\lib\\site-packages\\keras\\src\\engine\\training.py\", line 2357, in predict_step\n        return self(x, training=False)\n    File \"C:\\Users\\wn00217454\\Anaconda3\\envs\\cv\\lib\\site-packages\\keras\\src\\utils\\traceback_utils.py\", line 70, in error_handler\n        raise e.with_traceback(filtered_tb) from None\n    File \"C:\\Users\\wn00217454\\Anaconda3\\envs\\cv\\lib\\site-packages\\keras\\src\\engine\\input_spec.py\", line 298, in assert_input_compatibility\n        raise ValueError(\n\n    ValueError: Input 0 of layer \"model_1\" is incompatible with the layer: expected shape=(None, 512, 512, 3), found shape=(None, 2)\n",
     "output_type": "error",
     "traceback": [
      "\u001b[1;31m---------------------------------------------------------------------------\u001b[0m",
      "\u001b[1;31mValueError\u001b[0m                                Traceback (most recent call last)",
      "Cell \u001b[1;32mIn[27], line 4\u001b[0m\n\u001b[0;32m      2\u001b[0m n \u001b[38;5;241m=\u001b[39m \u001b[38;5;241m10\u001b[39m\n\u001b[0;32m      3\u001b[0m z_sample \u001b[38;5;241m=\u001b[39m np\u001b[38;5;241m.\u001b[39mrandom\u001b[38;5;241m.\u001b[39mnormal(size\u001b[38;5;241m=\u001b[39m(n, latent_dim))\n\u001b[1;32m----> 4\u001b[0m x_decoded \u001b[38;5;241m=\u001b[39m \u001b[43mvae\u001b[49m\u001b[38;5;241;43m.\u001b[39;49m\u001b[43mpredict\u001b[49m\u001b[43m(\u001b[49m\u001b[43mnp\u001b[49m\u001b[38;5;241;43m.\u001b[39;49m\u001b[43mrandom\u001b[49m\u001b[38;5;241;43m.\u001b[39;49m\u001b[43mnormal\u001b[49m\u001b[43m(\u001b[49m\u001b[43msize\u001b[49m\u001b[38;5;241;43m=\u001b[39;49m\u001b[43m(\u001b[49m\u001b[43mn\u001b[49m\u001b[43m,\u001b[49m\u001b[43m \u001b[49m\u001b[43mlatent_dim\u001b[49m\u001b[43m)\u001b[49m\u001b[43m)\u001b[49m\u001b[43m)\u001b[49m\n",
      "File \u001b[1;32m~\\Anaconda3\\envs\\cv\\lib\\site-packages\\keras\\src\\utils\\traceback_utils.py:70\u001b[0m, in \u001b[0;36mfilter_traceback.<locals>.error_handler\u001b[1;34m(*args, **kwargs)\u001b[0m\n\u001b[0;32m     67\u001b[0m     filtered_tb \u001b[38;5;241m=\u001b[39m _process_traceback_frames(e\u001b[38;5;241m.\u001b[39m__traceback__)\n\u001b[0;32m     68\u001b[0m     \u001b[38;5;66;03m# To get the full stack trace, call:\u001b[39;00m\n\u001b[0;32m     69\u001b[0m     \u001b[38;5;66;03m# `tf.debugging.disable_traceback_filtering()`\u001b[39;00m\n\u001b[1;32m---> 70\u001b[0m     \u001b[38;5;28;01mraise\u001b[39;00m e\u001b[38;5;241m.\u001b[39mwith_traceback(filtered_tb) \u001b[38;5;28;01mfrom\u001b[39;00m \u001b[38;5;28mNone\u001b[39m\n\u001b[0;32m     71\u001b[0m \u001b[38;5;28;01mfinally\u001b[39;00m:\n\u001b[0;32m     72\u001b[0m     \u001b[38;5;28;01mdel\u001b[39;00m filtered_tb\n",
      "File \u001b[1;32mC:\\Users\\WN0021~1\\AppData\\Local\\Temp\\__autograph_generated_file9lpr4obw.py:15\u001b[0m, in \u001b[0;36mouter_factory.<locals>.inner_factory.<locals>.tf__predict_function\u001b[1;34m(iterator)\u001b[0m\n\u001b[0;32m     13\u001b[0m \u001b[38;5;28;01mtry\u001b[39;00m:\n\u001b[0;32m     14\u001b[0m     do_return \u001b[38;5;241m=\u001b[39m \u001b[38;5;28;01mTrue\u001b[39;00m\n\u001b[1;32m---> 15\u001b[0m     retval_ \u001b[38;5;241m=\u001b[39m ag__\u001b[38;5;241m.\u001b[39mconverted_call(ag__\u001b[38;5;241m.\u001b[39mld(step_function), (ag__\u001b[38;5;241m.\u001b[39mld(\u001b[38;5;28mself\u001b[39m), ag__\u001b[38;5;241m.\u001b[39mld(iterator)), \u001b[38;5;28;01mNone\u001b[39;00m, fscope)\n\u001b[0;32m     16\u001b[0m \u001b[38;5;28;01mexcept\u001b[39;00m:\n\u001b[0;32m     17\u001b[0m     do_return \u001b[38;5;241m=\u001b[39m \u001b[38;5;28;01mFalse\u001b[39;00m\n",
      "\u001b[1;31mValueError\u001b[0m: in user code:\n\n    File \"C:\\Users\\wn00217454\\Anaconda3\\envs\\cv\\lib\\site-packages\\keras\\src\\engine\\training.py\", line 2416, in predict_function  *\n        return step_function(self, iterator)\n    File \"C:\\Users\\wn00217454\\Anaconda3\\envs\\cv\\lib\\site-packages\\keras\\src\\engine\\training.py\", line 2401, in step_function  **\n        outputs = model.distribute_strategy.run(run_step, args=(data,))\n    File \"C:\\Users\\wn00217454\\Anaconda3\\envs\\cv\\lib\\site-packages\\keras\\src\\engine\\training.py\", line 2389, in run_step  **\n        outputs = model.predict_step(data)\n    File \"C:\\Users\\wn00217454\\Anaconda3\\envs\\cv\\lib\\site-packages\\keras\\src\\engine\\training.py\", line 2357, in predict_step\n        return self(x, training=False)\n    File \"C:\\Users\\wn00217454\\Anaconda3\\envs\\cv\\lib\\site-packages\\keras\\src\\utils\\traceback_utils.py\", line 70, in error_handler\n        raise e.with_traceback(filtered_tb) from None\n    File \"C:\\Users\\wn00217454\\Anaconda3\\envs\\cv\\lib\\site-packages\\keras\\src\\engine\\input_spec.py\", line 298, in assert_input_compatibility\n        raise ValueError(\n\n    ValueError: Input 0 of layer \"model_1\" is incompatible with the layer: expected shape=(None, 512, 512, 3), found shape=(None, 2)\n"
     ]
    }
   ],
   "source": [
    "# Generate samples\n",
    "n = 10\n",
    "z_sample = np.random.normal(size=(n, latent_dim))\n",
    "x_decoded = vae.predict(np.random.normal(size=(n, latent_dim)))"
   ]
  },
  {
   "cell_type": "code",
   "execution_count": 30,
   "id": "4f24eb55-4602-439e-850e-75116679869f",
   "metadata": {},
   "outputs": [
    {
     "name": "stdout",
     "output_type": "stream",
     "text": [
      "Epoch 1/50\n",
      "3/3 [==============================] - 18s 5s/step - loss: 1375862.3750\n",
      "Epoch 2/50\n",
      "3/3 [==============================] - 15s 5s/step - loss: 1057973.1250\n",
      "Epoch 3/50\n",
      "3/3 [==============================] - 16s 5s/step - loss: 779601.1875\n",
      "Epoch 4/50\n",
      "3/3 [==============================] - 16s 5s/step - loss: 415713.9062\n",
      "Epoch 5/50\n",
      "3/3 [==============================] - 17s 6s/step - loss: 672289.5000\n",
      "Epoch 6/50\n",
      "3/3 [==============================] - 17s 6s/step - loss: 552984.1875\n",
      "Epoch 7/50\n",
      "3/3 [==============================] - 17s 6s/step - loss: 464581.7500\n",
      "Epoch 8/50\n",
      "3/3 [==============================] - 16s 5s/step - loss: 301960.7188\n",
      "Epoch 9/50\n",
      "3/3 [==============================] - 18s 6s/step - loss: 356895.7188\n",
      "Epoch 10/50\n",
      "3/3 [==============================] - 17s 5s/step - loss: 382421.5938\n",
      "Epoch 11/50\n",
      "3/3 [==============================] - 16s 5s/step - loss: 274738.3750\n",
      "Epoch 12/50\n",
      "3/3 [==============================] - 16s 5s/step - loss: 308907.2500\n",
      "Epoch 13/50\n",
      "3/3 [==============================] - 16s 6s/step - loss: 233087.1094\n",
      "Epoch 14/50\n",
      "3/3 [==============================] - 16s 5s/step - loss: 229403.5781\n",
      "Epoch 15/50\n",
      "3/3 [==============================] - 16s 5s/step - loss: 242486.3125\n",
      "Epoch 16/50\n",
      "3/3 [==============================] - 16s 5s/step - loss: 198516.4219\n",
      "Epoch 17/50\n",
      "3/3 [==============================] - 16s 5s/step - loss: 187972.7969\n",
      "Epoch 18/50\n",
      "3/3 [==============================] - 17s 6s/step - loss: 363365.4062\n",
      "Epoch 19/50\n",
      "3/3 [==============================] - 16s 5s/step - loss: 261585.2969\n",
      "Epoch 20/50\n",
      "3/3 [==============================] - 17s 6s/step - loss: nan              \n",
      "Epoch 21/50\n",
      "3/3 [==============================] - 17s 6s/step - loss: nan\n",
      "Epoch 22/50\n",
      "3/3 [==============================] - 18s 6s/step - loss: nan\n",
      "Epoch 23/50\n",
      "3/3 [==============================] - 17s 5s/step - loss: nan\n",
      "Epoch 24/50\n",
      "3/3 [==============================] - 17s 5s/step - loss: nan\n",
      "Epoch 25/50\n",
      "3/3 [==============================] - 16s 5s/step - loss: nan\n",
      "Epoch 26/50\n",
      "3/3 [==============================] - 17s 6s/step - loss: nan\n",
      "Epoch 27/50\n",
      "3/3 [==============================] - 17s 5s/step - loss: nan\n",
      "Epoch 28/50\n",
      "3/3 [==============================] - 17s 6s/step - loss: nan\n",
      "Epoch 29/50\n",
      "3/3 [==============================] - 17s 6s/step - loss: nan\n",
      "Epoch 30/50\n",
      "3/3 [==============================] - 17s 6s/step - loss: nan\n",
      "Epoch 31/50\n",
      "3/3 [==============================] - 17s 6s/step - loss: nan\n",
      "Epoch 32/50\n",
      "3/3 [==============================] - 17s 6s/step - loss: nan\n",
      "Epoch 33/50\n",
      "3/3 [==============================] - 17s 6s/step - loss: nan\n",
      "Epoch 34/50\n",
      "3/3 [==============================] - 17s 6s/step - loss: nan\n",
      "Epoch 35/50\n",
      "3/3 [==============================] - 17s 6s/step - loss: nan\n",
      "Epoch 36/50\n",
      "3/3 [==============================] - 17s 6s/step - loss: nan\n",
      "Epoch 37/50\n",
      "3/3 [==============================] - 17s 6s/step - loss: nan\n",
      "Epoch 38/50\n",
      "3/3 [==============================] - 17s 6s/step - loss: nan\n",
      "Epoch 39/50\n",
      "3/3 [==============================] - 17s 6s/step - loss: nan\n",
      "Epoch 40/50\n",
      "3/3 [==============================] - 17s 6s/step - loss: nan\n",
      "Epoch 41/50\n",
      "3/3 [==============================] - 17s 6s/step - loss: nan\n",
      "Epoch 42/50\n",
      "3/3 [==============================] - 16s 5s/step - loss: nan\n",
      "Epoch 43/50\n",
      "3/3 [==============================] - 17s 5s/step - loss: nan\n",
      "Epoch 44/50\n",
      "3/3 [==============================] - 17s 6s/step - loss: nan\n",
      "Epoch 45/50\n",
      "3/3 [==============================] - 17s 6s/step - loss: nan\n",
      "Epoch 46/50\n",
      "3/3 [==============================] - 18s 6s/step - loss: nan\n",
      "Epoch 47/50\n",
      "3/3 [==============================] - 17s 6s/step - loss: nan\n",
      "Epoch 48/50\n",
      "3/3 [==============================] - 16s 5s/step - loss: nan\n",
      "Epoch 49/50\n",
      "3/3 [==============================] - 17s 5s/step - loss: nan\n",
      "Epoch 50/50\n",
      "3/3 [==============================] - 17s 6s/step - loss: nan\n"
     ]
    },
    {
     "ename": "ValueError",
     "evalue": "in user code:\n\n    File \"C:\\Users\\wn00217454\\Anaconda3\\envs\\cv\\lib\\site-packages\\keras\\src\\engine\\training.py\", line 2416, in predict_function  *\n        return step_function(self, iterator)\n    File \"C:\\Users\\wn00217454\\Anaconda3\\envs\\cv\\lib\\site-packages\\keras\\src\\engine\\training.py\", line 2401, in step_function  **\n        outputs = model.distribute_strategy.run(run_step, args=(data,))\n    File \"C:\\Users\\wn00217454\\Anaconda3\\envs\\cv\\lib\\site-packages\\keras\\src\\engine\\training.py\", line 2389, in run_step  **\n        outputs = model.predict_step(data)\n    File \"C:\\Users\\wn00217454\\Anaconda3\\envs\\cv\\lib\\site-packages\\keras\\src\\engine\\training.py\", line 2357, in predict_step\n        return self(x, training=False)\n    File \"C:\\Users\\wn00217454\\Anaconda3\\envs\\cv\\lib\\site-packages\\keras\\src\\utils\\traceback_utils.py\", line 70, in error_handler\n        raise e.with_traceback(filtered_tb) from None\n    File \"C:\\Users\\wn00217454\\Anaconda3\\envs\\cv\\lib\\site-packages\\keras\\src\\engine\\input_spec.py\", line 298, in assert_input_compatibility\n        raise ValueError(\n\n    ValueError: Input 0 of layer \"model_3\" is incompatible with the layer: expected shape=(None, 512, 512, 3), found shape=(None, 2)\n",
     "output_type": "error",
     "traceback": [
      "\u001b[1;31m---------------------------------------------------------------------------\u001b[0m",
      "\u001b[1;31mValueError\u001b[0m                                Traceback (most recent call last)",
      "Cell \u001b[1;32mIn[30], line 46\u001b[0m\n\u001b[0;32m     44\u001b[0m n \u001b[38;5;241m=\u001b[39m \u001b[38;5;241m10\u001b[39m  \u001b[38;5;66;03m# Number of samples to generate\u001b[39;00m\n\u001b[0;32m     45\u001b[0m z_sample \u001b[38;5;241m=\u001b[39m np\u001b[38;5;241m.\u001b[39mrandom\u001b[38;5;241m.\u001b[39mnormal(size\u001b[38;5;241m=\u001b[39m(n, latent_dim))\n\u001b[1;32m---> 46\u001b[0m x_decoded \u001b[38;5;241m=\u001b[39m \u001b[43mvae\u001b[49m\u001b[38;5;241;43m.\u001b[39;49m\u001b[43mpredict\u001b[49m\u001b[43m(\u001b[49m\u001b[43mnp\u001b[49m\u001b[38;5;241;43m.\u001b[39;49m\u001b[43mrandom\u001b[49m\u001b[38;5;241;43m.\u001b[39;49m\u001b[43mnormal\u001b[49m\u001b[43m(\u001b[49m\u001b[43msize\u001b[49m\u001b[38;5;241;43m=\u001b[39;49m\u001b[43m(\u001b[49m\u001b[43mn\u001b[49m\u001b[43m,\u001b[49m\u001b[43m \u001b[49m\u001b[43mlatent_dim\u001b[49m\u001b[43m)\u001b[49m\u001b[43m)\u001b[49m\u001b[43m)\u001b[49m\n\u001b[0;32m     48\u001b[0m \u001b[38;5;66;03m# Reshape the output to match the input shape\u001b[39;00m\n\u001b[0;32m     49\u001b[0m x_decoded \u001b[38;5;241m=\u001b[39m x_decoded\u001b[38;5;241m.\u001b[39mreshape((n, \u001b[38;5;241m512\u001b[39m, \u001b[38;5;241m512\u001b[39m, \u001b[38;5;241m3\u001b[39m))\n",
      "File \u001b[1;32m~\\Anaconda3\\envs\\cv\\lib\\site-packages\\keras\\src\\utils\\traceback_utils.py:70\u001b[0m, in \u001b[0;36mfilter_traceback.<locals>.error_handler\u001b[1;34m(*args, **kwargs)\u001b[0m\n\u001b[0;32m     67\u001b[0m     filtered_tb \u001b[38;5;241m=\u001b[39m _process_traceback_frames(e\u001b[38;5;241m.\u001b[39m__traceback__)\n\u001b[0;32m     68\u001b[0m     \u001b[38;5;66;03m# To get the full stack trace, call:\u001b[39;00m\n\u001b[0;32m     69\u001b[0m     \u001b[38;5;66;03m# `tf.debugging.disable_traceback_filtering()`\u001b[39;00m\n\u001b[1;32m---> 70\u001b[0m     \u001b[38;5;28;01mraise\u001b[39;00m e\u001b[38;5;241m.\u001b[39mwith_traceback(filtered_tb) \u001b[38;5;28;01mfrom\u001b[39;00m \u001b[38;5;28mNone\u001b[39m\n\u001b[0;32m     71\u001b[0m \u001b[38;5;28;01mfinally\u001b[39;00m:\n\u001b[0;32m     72\u001b[0m     \u001b[38;5;28;01mdel\u001b[39;00m filtered_tb\n",
      "File \u001b[1;32mC:\\Users\\WN0021~1\\AppData\\Local\\Temp\\__autograph_generated_file9lpr4obw.py:15\u001b[0m, in \u001b[0;36mouter_factory.<locals>.inner_factory.<locals>.tf__predict_function\u001b[1;34m(iterator)\u001b[0m\n\u001b[0;32m     13\u001b[0m \u001b[38;5;28;01mtry\u001b[39;00m:\n\u001b[0;32m     14\u001b[0m     do_return \u001b[38;5;241m=\u001b[39m \u001b[38;5;28;01mTrue\u001b[39;00m\n\u001b[1;32m---> 15\u001b[0m     retval_ \u001b[38;5;241m=\u001b[39m ag__\u001b[38;5;241m.\u001b[39mconverted_call(ag__\u001b[38;5;241m.\u001b[39mld(step_function), (ag__\u001b[38;5;241m.\u001b[39mld(\u001b[38;5;28mself\u001b[39m), ag__\u001b[38;5;241m.\u001b[39mld(iterator)), \u001b[38;5;28;01mNone\u001b[39;00m, fscope)\n\u001b[0;32m     16\u001b[0m \u001b[38;5;28;01mexcept\u001b[39;00m:\n\u001b[0;32m     17\u001b[0m     do_return \u001b[38;5;241m=\u001b[39m \u001b[38;5;28;01mFalse\u001b[39;00m\n",
      "\u001b[1;31mValueError\u001b[0m: in user code:\n\n    File \"C:\\Users\\wn00217454\\Anaconda3\\envs\\cv\\lib\\site-packages\\keras\\src\\engine\\training.py\", line 2416, in predict_function  *\n        return step_function(self, iterator)\n    File \"C:\\Users\\wn00217454\\Anaconda3\\envs\\cv\\lib\\site-packages\\keras\\src\\engine\\training.py\", line 2401, in step_function  **\n        outputs = model.distribute_strategy.run(run_step, args=(data,))\n    File \"C:\\Users\\wn00217454\\Anaconda3\\envs\\cv\\lib\\site-packages\\keras\\src\\engine\\training.py\", line 2389, in run_step  **\n        outputs = model.predict_step(data)\n    File \"C:\\Users\\wn00217454\\Anaconda3\\envs\\cv\\lib\\site-packages\\keras\\src\\engine\\training.py\", line 2357, in predict_step\n        return self(x, training=False)\n    File \"C:\\Users\\wn00217454\\Anaconda3\\envs\\cv\\lib\\site-packages\\keras\\src\\utils\\traceback_utils.py\", line 70, in error_handler\n        raise e.with_traceback(filtered_tb) from None\n    File \"C:\\Users\\wn00217454\\Anaconda3\\envs\\cv\\lib\\site-packages\\keras\\src\\engine\\input_spec.py\", line 298, in assert_input_compatibility\n        raise ValueError(\n\n    ValueError: Input 0 of layer \"model_3\" is incompatible with the layer: expected shape=(None, 512, 512, 3), found shape=(None, 2)\n"
     ]
    }
   ],
   "source": [
    "# Function to sample from the latent space during prediction\n",
    "def sampling(args):\n",
    "    z_mean, z_log_var = args\n",
    "    batch = K.shape(z_mean)[0]\n",
    "    dim = K.int_shape(z_mean)[1]\n",
    "    epsilon = K.random_normal(shape=(batch, dim), mean=0., stddev=1.0)\n",
    "    return z_mean + K.exp(0.5 * z_log_var) * epsilon\n",
    "\n",
    "# Model architecture\n",
    "input_shape = (512, 512, 3)\n",
    "latent_dim = 2\n",
    "\n",
    "# Encoder\n",
    "inputs = Input(shape=input_shape)\n",
    "x = Flatten()(inputs)\n",
    "x = Dense(256, activation='relu')(x)\n",
    "z_mean = Dense(latent_dim)(x)\n",
    "z_log_var = Dense(latent_dim)(x)\n",
    "\n",
    "# Sampling layer\n",
    "z = Lambda(sampling, output_shape=(latent_dim,))([z_mean, z_log_var])\n",
    "\n",
    "# Decoder\n",
    "decoder_h = Dense(256, activation='relu')\n",
    "decoder_out = Dense(np.prod(input_shape), activation='sigmoid')\n",
    "h_decoded = decoder_h(z)\n",
    "x_decoded_mean = decoder_out(h_decoded)\n",
    "x_decoded_mean = Reshape(input_shape)(x_decoded_mean)\n",
    "\n",
    "# VAE Model\n",
    "vae = Model(inputs, x_decoded_mean)\n",
    "\n",
    "# Loss function\n",
    "xent_loss = K.sum(K.binary_crossentropy(Flatten()(inputs), Flatten()(x_decoded_mean)), axis=-1)\n",
    "kl_loss = -0.5 * K.sum(1 + z_log_var - K.square(z_mean) - K.exp(z_log_var), axis=-1)\n",
    "vae_loss = K.mean(xent_loss + kl_loss)\n",
    "\n",
    "vae.add_loss(vae_loss)\n",
    "vae.compile(optimizer='adam')\n",
    "\n",
    "vae.fit(images, epochs=50, batch_size=16)\n",
    "\n",
    "# Generate samples\n",
    "n = 10  # Number of samples to generate\n",
    "z_sample = np.random.normal(size=(n, latent_dim))\n",
    "x_decoded = vae.predict(np.random.normal(size=(n, latent_dim)))\n",
    "\n",
    "# Reshape the output to match the input shape\n",
    "x_decoded = x_decoded.reshape((n, 512, 512, 3))\n",
    "\n",
    "# Display generated images\n",
    "plt.figure(figsize=(10, 4))\n",
    "for i in range(n):\n",
    "    ax = plt.subplot(1, n, i + 1)\n",
    "    plt.imshow(x_decoded[i])\n",
    "    plt.gray()\n",
    "    ax.get_xaxis().set_visible(False)\n",
    "    ax.get_yaxis().set_visible(False)\n",
    "plt.show()"
   ]
  },
  {
   "cell_type": "code",
   "execution_count": null,
   "id": "8e3d2371-c214-4994-9dc3-0349053b154a",
   "metadata": {},
   "outputs": [],
   "source": []
  },
  {
   "cell_type": "code",
   "execution_count": null,
   "id": "294f3c73-f52b-4ea2-b18c-adcd8dd11cae",
   "metadata": {},
   "outputs": [],
   "source": []
  }
 ],
 "metadata": {
  "kernelspec": {
   "display_name": "Python 3 (ipykernel)",
   "language": "python",
   "name": "python3"
  },
  "language_info": {
   "codemirror_mode": {
    "name": "ipython",
    "version": 3
   },
   "file_extension": ".py",
   "mimetype": "text/x-python",
   "name": "python",
   "nbconvert_exporter": "python",
   "pygments_lexer": "ipython3",
   "version": "3.10.0"
  }
 },
 "nbformat": 4,
 "nbformat_minor": 5
}
