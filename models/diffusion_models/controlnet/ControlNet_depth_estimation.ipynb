{
 "cells": [
  {
   "cell_type": "code",
   "execution_count": 1,
   "id": "d7fac513-553c-409c-ac3e-d66e41b44696",
   "metadata": {},
   "outputs": [
    {
     "name": "stderr",
     "output_type": "stream",
     "text": [
      "/datalake/WMLA/installation/W_Anaconda4Sigs/ana-1401-00217454/anaconda/envs/gai/lib/python3.10/site-packages/tqdm/auto.py:21: TqdmWarning: IProgress not found. Please update jupyter and ipywidgets. See https://ipywidgets.readthedocs.io/en/stable/user_install.html\n",
      "  from .autonotebook import tqdm as notebook_tqdm\n"
     ]
    }
   ],
   "source": [
    "from diffusers import StableDiffusionControlNetPipeline, ControlNetModel, UniPCMultistepScheduler\n",
    "import torch\n",
    "import numpy as np\n",
    "\n",
    "from transformers import pipeline\n",
    "from diffusers.utils import load_image, make_image_grid\n",
    "\n",
    "device = torch.device(\"cuda:0\")\n",
    "\n",
    "model_id = r\"/datalake/homes/u_1401_00217454_x/.cache/torch/hub/checkpoints/genai/dpt-large\"\n",
    "image = load_image(\"/datalake/WMLA/data/d_1401/projects/d_00217454/code/dev/gen_ai_vision_lab/data_preparation/to_use/images/6022020103_180_image.jpg\")"
   ]
  },
  {
   "cell_type": "code",
   "execution_count": 2,
   "id": "14d14e6c-73ae-4f09-b9db-658537f7cc1a",
   "metadata": {},
   "outputs": [],
   "source": [
    "depth_estimator_weights = r\"/datalake/homes/u_1401_00217454_x/.cache/torch/hub/checkpoints/genai/dpt-large\"\n",
    "sd_model_path = r\"/datalake/homes/u_1401_00217454_x/.cache/torch/hub/checkpoints/genai/stable-diffusion-2-base\"\n",
    "cn_model_path = r\"/datalake/homes/u_1401_00217454_x/.cache/torch/hub/checkpoints/genai/sd-controlnet-canny\""
   ]
  },
  {
   "cell_type": "code",
   "execution_count": 3,
   "id": "82796463-1390-4d73-9608-7d271a74456c",
   "metadata": {},
   "outputs": [
    {
     "name": "stderr",
     "output_type": "stream",
     "text": [
      "Some weights of DPTForDepthEstimation were not initialized from the model checkpoint at /datalake/homes/u_1401_00217454_x/.cache/torch/hub/checkpoints/genai/dpt-large and are newly initialized: ['neck.fusion_stage.layers.0.residual_layer1.convolution1.bias', 'neck.fusion_stage.layers.0.residual_layer1.convolution1.weight', 'neck.fusion_stage.layers.0.residual_layer1.convolution2.bias', 'neck.fusion_stage.layers.0.residual_layer1.convolution2.weight']\n",
      "You should probably TRAIN this model on a down-stream task to be able to use it for predictions and inference.\n",
      "Could not find image processor class in the image processor config or the model config. Loading based on pattern matching with the model's feature extractor configuration. Please open a PR/issue to update `preprocessor_config.json` to use `image_processor_type` instead of `feature_extractor_type`. This warning will be removed in v4.40.\n"
     ]
    }
   ],
   "source": [
    "def get_depth_map(image, depth_estimator):\n",
    "    image = depth_estimator(image)[\"depth\"]\n",
    "    image = np.array(image)\n",
    "    image = image[:, :, None]\n",
    "    image = np.concatenate([image, image, image], axis=2)\n",
    "    detected_map = torch.from_numpy(image).float() / 255.0\n",
    "    depth_map = detected_map.permute(2, 0, 1)\n",
    "    return depth_map\n",
    "\n",
    "depth_estimator = pipeline(\"depth-estimation\", model = depth_estimator_weights)\n",
    "depth_map = get_depth_map(image, depth_estimator).unsqueeze(0).half().to(device)"
   ]
  },
  {
   "cell_type": "code",
   "execution_count": null,
   "id": "19b001e3-cb19-47e3-8587-916baf173ccc",
   "metadata": {},
   "outputs": [],
   "source": []
  },
  {
   "cell_type": "code",
   "execution_count": 4,
   "id": "dc796644-c52f-437e-9400-6ab7da828034",
   "metadata": {},
   "outputs": [
    {
     "name": "stderr",
     "output_type": "stream",
     "text": [
      "Loading pipeline components...: 100%|█████████████| 6/6 [00:07<00:00,  1.17s/it]\n"
     ]
    }
   ],
   "source": [
    "controlnet = ControlNetModel.from_pretrained(cn_model_path, torch_dtype=torch.float16, use_safetensors=True)\n",
    "pipe = StableDiffusionControlNetPipeline.from_pretrained(sd_model_path, controlnet=controlnet, torch_dtype=torch.float16, use_safetensors=True)\n",
    "pipe = pipe.to(device)"
   ]
  },
  {
   "cell_type": "code",
   "execution_count": 5,
   "id": "e6a9e9a9-1f8b-4e3d-9f34-7998747c0260",
   "metadata": {},
   "outputs": [],
   "source": [
    "pipe.scheduler = UniPCMultistepScheduler.from_config(pipe.scheduler.config)\n",
    "pipe.enable_model_cpu_offload()"
   ]
  },
  {
   "cell_type": "code",
   "execution_count": 8,
   "id": "375afe91-895d-4e71-bced-1190c7da532e",
   "metadata": {},
   "outputs": [
    {
     "ename": "NameError",
     "evalue": "name 'canny_image' is not defined",
     "output_type": "error",
     "traceback": [
      "\u001b[0;31m---------------------------------------------------------------------------\u001b[0m",
      "\u001b[0;31mNameError\u001b[0m                                 Traceback (most recent call last)",
      "Cell \u001b[0;32mIn[8], line 2\u001b[0m\n\u001b[1;32m      1\u001b[0m output \u001b[38;5;241m=\u001b[39m pipe(\n\u001b[0;32m----> 2\u001b[0m     \u001b[38;5;124m\"\u001b[39m\u001b[38;5;124mwodden surface in the background\u001b[39m\u001b[38;5;124m\"\u001b[39m, image\u001b[38;5;241m=\u001b[39m\u001b[43mcanny_image\u001b[49m\n\u001b[1;32m      3\u001b[0m )\u001b[38;5;241m.\u001b[39mimages[\u001b[38;5;241m0\u001b[39m]\n\u001b[1;32m      4\u001b[0m make_image_grid([original_image, canny_image, output], rows\u001b[38;5;241m=\u001b[39m\u001b[38;5;241m1\u001b[39m, cols\u001b[38;5;241m=\u001b[39m\u001b[38;5;241m3\u001b[39m)\n",
      "\u001b[0;31mNameError\u001b[0m: name 'canny_image' is not defined"
     ]
    }
   ],
   "source": [
    "image = pipe(\"bird\", image, num_inference_steps=20).images[0]\n",
    "make_image_grid([original_image, canny_image, output], rows=1, cols=3)"
   ]
  },
  {
   "cell_type": "code",
   "execution_count": 7,
   "id": "1fdd02cf-dded-41e8-997a-306e2f6051a5",
   "metadata": {},
   "outputs": [
    {
     "name": "stdout",
     "output_type": "stream",
     "text": [
      "Mon Mar 25 13:25:49 2024       \n",
      "+-----------------------------------------------------------------------------+\n",
      "| NVIDIA-SMI 450.119.03   Driver Version: 450.119.03   CUDA Version: 11.0     |\n",
      "|-------------------------------+----------------------+----------------------+\n",
      "| GPU  Name        Persistence-M| Bus-Id        Disp.A | Volatile Uncorr. ECC |\n",
      "| Fan  Temp  Perf  Pwr:Usage/Cap|         Memory-Usage | GPU-Util  Compute M. |\n",
      "|                               |                      |               MIG M. |\n",
      "|===============================+======================+======================|\n",
      "|   0  Tesla V100-SXM2...  On   | 00000004:04:00.0 Off |                    0 |\n",
      "| N/A   42C    P0    54W / 300W |   3987MiB / 32510MiB |      0%   E. Process |\n",
      "|                               |                      |                  N/A |\n",
      "+-------------------------------+----------------------+----------------------+\n",
      "|   1  Tesla V100-SXM2...  On   | 00000004:05:00.0 Off |                    0 |\n",
      "| N/A   48C    P0    41W / 300W |      2MiB / 32510MiB |      0%   E. Process |\n",
      "|                               |                      |                  N/A |\n",
      "+-------------------------------+----------------------+----------------------+\n",
      "|   2  Tesla V100-SXM2...  On   | 00000035:03:00.0 Off |                    0 |\n",
      "| N/A   82C    P0   212W / 300W |  31117MiB / 32510MiB |     93%   E. Process |\n",
      "|                               |                      |                  N/A |\n",
      "+-------------------------------+----------------------+----------------------+\n",
      "|   3  Tesla V100-SXM2...  On   | 00000035:04:00.0 Off |                    0 |\n",
      "| N/A   48C    P0    40W / 300W |      2MiB / 32510MiB |      0%   E. Process |\n",
      "|                               |                      |                  N/A |\n",
      "+-------------------------------+----------------------+----------------------+\n",
      "                                                                               \n",
      "+-----------------------------------------------------------------------------+\n",
      "| Processes:                                                                  |\n",
      "|  GPU   GI   CI        PID   Type   Process name                  GPU Memory |\n",
      "|        ID   ID                                                   Usage      |\n",
      "|=============================================================================|\n",
      "|    0   N/A  N/A    834693      C   ...conda/envs/gai/bin/python     3985MiB |\n",
      "|    2   N/A  N/A    765463      C   python                          31111MiB |\n",
      "+-----------------------------------------------------------------------------+\n"
     ]
    }
   ],
   "source": [
    "!nvidia-smi"
   ]
  },
  {
   "cell_type": "code",
   "execution_count": null,
   "id": "02d71bcc-e090-4eac-88e1-84f743c9d91a",
   "metadata": {},
   "outputs": [],
   "source": []
  }
 ],
 "metadata": {
  "kernelspec": {
   "display_name": "Python 3.10.8 (remote)",
   "language": "python",
   "name": "ssh__python3.10.8remote"
  },
  "language_info": {
   "codemirror_mode": {
    "name": "ipython",
    "version": 3
   },
   "file_extension": ".py",
   "mimetype": "text/x-python",
   "name": "python",
   "nbconvert_exporter": "python",
   "pygments_lexer": "ipython3",
   "version": "3.10.8"
  }
 },
 "nbformat": 4,
 "nbformat_minor": 5
}
