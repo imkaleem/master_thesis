{
 "cells": [
  {
   "cell_type": "code",
   "execution_count": 2,
   "id": "d7fac513-553c-409c-ac3e-d66e41b44696",
   "metadata": {},
   "outputs": [
    {
     "name": "stderr",
     "output_type": "stream",
     "text": [
      "Some weights of DPTForDepthEstimation were not initialized from the model checkpoint at /datalake/homes/u_1401_00217454_x/.cache/torch/hub/checkpoints/genai/dpt-large and are newly initialized: ['neck.fusion_stage.layers.0.residual_layer1.convolution1.bias', 'neck.fusion_stage.layers.0.residual_layer1.convolution1.weight', 'neck.fusion_stage.layers.0.residual_layer1.convolution2.bias', 'neck.fusion_stage.layers.0.residual_layer1.convolution2.weight']\n",
      "You should probably TRAIN this model on a down-stream task to be able to use it for predictions and inference.\n",
      "Could not find image processor class in the image processor config or the model config. Loading based on pattern matching with the model's feature extractor configuration. Please open a PR/issue to update `preprocessor_config.json` to use `image_processor_type` instead of `feature_extractor_type`. This warning will be removed in v4.40.\n"
     ]
    }
   ],
   "source": [
    "from diffusers import StableDiffusionControlNetPipeline, ControlNetModel, UniPCMultistepScheduler\n",
    "import torch\n",
    "import numpy as np\n",
    "\n",
    "from transformers import pipeline\n",
    "from diffusers.utils import load_image, make_image_grid\n",
    "\n",
    "device = torch.device(\"cuda:0\")\n",
    "\n",
    "model_id = r\"/datalake/homes/u_1401_00217454_x/.cache/torch/hub/checkpoints/genai/dpt-large\"\n",
    "image = load_image(\"/datalake/WMLA/data/d_1401/projects/d_00217454/code/dev/gen_ai_vision_lab/data_preparation/to_use/images/6022020103_180_image.jpg\")"
   ]
  },
  {
   "cell_type": "code",
   "execution_count": null,
   "id": "14d14e6c-73ae-4f09-b9db-658537f7cc1a",
   "metadata": {},
   "outputs": [],
   "source": [
    "depth_estimator_weights = r\"/datalake/homes/u_1401_00217454_x/.cache/torch/hub/checkpoints/genai/dpt-large\"\n",
    "sd_model_path = r\"/datalake/homes/u_1401_00217454_x/.cache/torch/hub/checkpoints/genai/stable-diffusion-2-base\"\n",
    "cn_model_path = r\"/datalake/homes/u_1401_00217454_x/.cache/torch/hub/checkpoints/genai/sd-controlnet-canny\""
   ]
  },
  {
   "cell_type": "code",
   "execution_count": null,
   "id": "82796463-1390-4d73-9608-7d271a74456c",
   "metadata": {},
   "outputs": [],
   "source": [
    "def get_depth_map(image, depth_estimator):\n",
    "    image = depth_estimator(image)[\"depth\"]\n",
    "    image = np.array(image)\n",
    "    image = image[:, :, None]\n",
    "    image = np.concatenate([image, image, image], axis=2)\n",
    "    detected_map = torch.from_numpy(image).float() / 255.0\n",
    "    depth_map = detected_map.permute(2, 0, 1)\n",
    "    return depth_map\n",
    "\n",
    "depth_estimator = pipeline(\"depth-estimation\", model = depth_estimator_weights)\n",
    "depth_map = get_depth_map(image, depth_estimator).unsqueeze(0).half().to(device)"
   ]
  },
  {
   "cell_type": "code",
   "execution_count": 3,
   "id": "19b001e3-cb19-47e3-8587-916baf173ccc",
   "metadata": {},
   "outputs": [],
   "source": []
  },
  {
   "cell_type": "code",
   "execution_count": 5,
   "id": "dc796644-c52f-437e-9400-6ab7da828034",
   "metadata": {},
   "outputs": [
    {
     "name": "stderr",
     "output_type": "stream",
     "text": [
      "Loading pipeline components...: 100%|█████████████| 6/6 [00:02<00:00,  2.38it/s]\n"
     ]
    }
   ],
   "source": [
    "controlnet = ControlNetModel.from_pretrained(cn_model_path, torch_dtype=torch.float16, use_safetensors=True)\n",
    "pipe = StableDiffusionControlNetPipeline.from_pretrained(sd_model_path, controlnet=controlnet, torch_dtype=torch.float16, use_safetensors=True)\n",
    "pipe = pipe.to(device)"
   ]
  },
  {
   "cell_type": "code",
   "execution_count": 6,
   "id": "e6a9e9a9-1f8b-4e3d-9f34-7998747c0260",
   "metadata": {},
   "outputs": [],
   "source": [
    "pipe.scheduler = UniPCMultistepScheduler.from_config(pipe.scheduler.config)\n",
    "pipe.enable_model_cpu_offload()"
   ]
  },
  {
   "cell_type": "code",
   "execution_count": null,
   "id": "1fdd02cf-dded-41e8-997a-306e2f6051a5",
   "metadata": {},
   "outputs": [],
   "source": [
    "!nvidia-smi"
   ]
  },
  {
   "cell_type": "code",
   "execution_count": null,
   "id": "02d71bcc-e090-4eac-88e1-84f743c9d91a",
   "metadata": {},
   "outputs": [],
   "source": []
  }
 ],
 "metadata": {
  "kernelspec": {
   "display_name": "Python 3.10.8 (remote)",
   "language": "python",
   "name": "ssh__python3.10.8remote"
  },
  "language_info": {
   "codemirror_mode": {
    "name": "ipython",
    "version": 3
   },
   "file_extension": ".py",
   "mimetype": "text/x-python",
   "name": "python",
   "nbconvert_exporter": "python",
   "pygments_lexer": "ipython3",
   "version": "3.10.8"
  }
 },
 "nbformat": 4,
 "nbformat_minor": 5
}
