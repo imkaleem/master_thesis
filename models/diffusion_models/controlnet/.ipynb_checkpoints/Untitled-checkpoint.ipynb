{
 "cells": [
  {
   "cell_type": "code",
   "execution_count": 1,
   "id": "6b3b0d63-2792-449e-a83d-d03e36b14f2a",
   "metadata": {},
   "outputs": [
    {
     "ename": "NameError",
     "evalue": "name 'o' is not defined",
     "output_type": "error",
     "traceback": [
      "\u001b[1;31m---------------------------------------------------------------------------\u001b[0m",
      "\u001b[1;31mNameError\u001b[0m                                 Traceback (most recent call last)",
      "Cell \u001b[1;32mIn[1], line 1\u001b[0m\n\u001b[1;32m----> 1\u001b[0m \u001b[43mo\u001b[49m\n",
      "\u001b[1;31mNameError\u001b[0m: name 'o' is not defined"
     ]
    }
   ],
   "source": [
    "import numpy as np\n",
    "from PIL import Image\n",
    "\n",
    "def save_images(prompt, images, count):\n",
    "    is_saved = False\n",
    "    if isinstance(images, Image.Image):\n",
    "        images.save(prompt + str(count + 1) + \".png\")\n",
    "        is_saved = True\n",
    "        \n",
    "    elif isinstance(images, list):\n",
    "        for img in images:\n",
    "            count += 1\n",
    "            img.save(prompt + str(count + 1) + \".png\")\n",
    "        is_saved = True\n",
    "    \n",
    "    if is_saved:\n",
    "        print(\"The image(s) is / are saved successfully.\")"
   ]
  },
  {
   "cell_type": "code",
   "execution_count": null,
   "id": "71dc4227-e196-43d2-b76d-7be428402506",
   "metadata": {},
   "outputs": [],
   "source": []
  }
 ],
 "metadata": {
  "kernelspec": {
   "display_name": "Python 3 (ipykernel)",
   "language": "python",
   "name": "python3"
  },
  "language_info": {
   "codemirror_mode": {
    "name": "ipython",
    "version": 3
   },
   "file_extension": ".py",
   "mimetype": "text/x-python",
   "name": "python",
   "nbconvert_exporter": "python",
   "pygments_lexer": "ipython3",
   "version": "3.10.8"
  }
 },
 "nbformat": 4,
 "nbformat_minor": 5
}
